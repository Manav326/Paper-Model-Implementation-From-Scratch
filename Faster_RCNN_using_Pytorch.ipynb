{
  "nbformat": 4,
  "nbformat_minor": 0,
  "metadata": {
    "colab": {
      "name": "faster_rcnn_from_scratch.ipynb",
      "provenance": [],
      "collapsed_sections": []
    },
    "kernelspec": {
      "name": "python3",
      "display_name": "Python 3"
    },
    "widgets": {
      "application/vnd.jupyter.widget-state+json": {
        "7c7aaae84a524ff2ac04d7221c5ffdd4": {
          "model_module": "@jupyter-widgets/controls",
          "model_name": "HBoxModel",
          "state": {
            "_view_name": "HBoxView",
            "_dom_classes": [],
            "_model_name": "HBoxModel",
            "_view_module": "@jupyter-widgets/controls",
            "_model_module_version": "1.5.0",
            "_view_count": null,
            "_view_module_version": "1.5.0",
            "box_style": "",
            "layout": "IPY_MODEL_efad2ea6f0cc4bd78cf3377d7d0024df",
            "_model_module": "@jupyter-widgets/controls",
            "children": [
              "IPY_MODEL_d9b2c0753fb24fe0ad267a566383c659",
              "IPY_MODEL_9da5da5f4cc147db8ef355a865e000b4"
            ]
          }
        },
        "efad2ea6f0cc4bd78cf3377d7d0024df": {
          "model_module": "@jupyter-widgets/base",
          "model_name": "LayoutModel",
          "state": {
            "_view_name": "LayoutView",
            "grid_template_rows": null,
            "right": null,
            "justify_content": null,
            "_view_module": "@jupyter-widgets/base",
            "overflow": null,
            "_model_module_version": "1.2.0",
            "_view_count": null,
            "flex_flow": null,
            "width": null,
            "min_width": null,
            "border": null,
            "align_items": null,
            "bottom": null,
            "_model_module": "@jupyter-widgets/base",
            "top": null,
            "grid_column": null,
            "overflow_y": null,
            "overflow_x": null,
            "grid_auto_flow": null,
            "grid_area": null,
            "grid_template_columns": null,
            "flex": null,
            "_model_name": "LayoutModel",
            "justify_items": null,
            "grid_row": null,
            "max_height": null,
            "align_content": null,
            "visibility": null,
            "align_self": null,
            "height": null,
            "min_height": null,
            "padding": null,
            "grid_auto_rows": null,
            "grid_gap": null,
            "max_width": null,
            "order": null,
            "_view_module_version": "1.2.0",
            "grid_template_areas": null,
            "object_position": null,
            "object_fit": null,
            "grid_auto_columns": null,
            "margin": null,
            "display": null,
            "left": null
          }
        },
        "d9b2c0753fb24fe0ad267a566383c659": {
          "model_module": "@jupyter-widgets/controls",
          "model_name": "FloatProgressModel",
          "state": {
            "_view_name": "ProgressView",
            "style": "IPY_MODEL_6ee9c50c406347f68c3f0ca6043112c1",
            "_dom_classes": [],
            "description": "100%",
            "_model_name": "FloatProgressModel",
            "bar_style": "success",
            "max": 553433881,
            "_view_module": "@jupyter-widgets/controls",
            "_model_module_version": "1.5.0",
            "value": 553433881,
            "_view_count": null,
            "_view_module_version": "1.5.0",
            "orientation": "horizontal",
            "min": 0,
            "description_tooltip": null,
            "_model_module": "@jupyter-widgets/controls",
            "layout": "IPY_MODEL_e9ca1caf5cee4ac0ade6dbe2b8951640"
          }
        },
        "9da5da5f4cc147db8ef355a865e000b4": {
          "model_module": "@jupyter-widgets/controls",
          "model_name": "HTMLModel",
          "state": {
            "_view_name": "HTMLView",
            "style": "IPY_MODEL_d9df02f269014b14b3cf6275af069d53",
            "_dom_classes": [],
            "description": "",
            "_model_name": "HTMLModel",
            "placeholder": "​",
            "_view_module": "@jupyter-widgets/controls",
            "_model_module_version": "1.5.0",
            "value": " 528M/528M [00:23&lt;00:00, 24.1MB/s]",
            "_view_count": null,
            "_view_module_version": "1.5.0",
            "description_tooltip": null,
            "_model_module": "@jupyter-widgets/controls",
            "layout": "IPY_MODEL_ed269eae578042d1a0522a264767da3f"
          }
        },
        "6ee9c50c406347f68c3f0ca6043112c1": {
          "model_module": "@jupyter-widgets/controls",
          "model_name": "ProgressStyleModel",
          "state": {
            "_view_name": "StyleView",
            "_model_name": "ProgressStyleModel",
            "description_width": "initial",
            "_view_module": "@jupyter-widgets/base",
            "_model_module_version": "1.5.0",
            "_view_count": null,
            "_view_module_version": "1.2.0",
            "bar_color": null,
            "_model_module": "@jupyter-widgets/controls"
          }
        },
        "e9ca1caf5cee4ac0ade6dbe2b8951640": {
          "model_module": "@jupyter-widgets/base",
          "model_name": "LayoutModel",
          "state": {
            "_view_name": "LayoutView",
            "grid_template_rows": null,
            "right": null,
            "justify_content": null,
            "_view_module": "@jupyter-widgets/base",
            "overflow": null,
            "_model_module_version": "1.2.0",
            "_view_count": null,
            "flex_flow": null,
            "width": null,
            "min_width": null,
            "border": null,
            "align_items": null,
            "bottom": null,
            "_model_module": "@jupyter-widgets/base",
            "top": null,
            "grid_column": null,
            "overflow_y": null,
            "overflow_x": null,
            "grid_auto_flow": null,
            "grid_area": null,
            "grid_template_columns": null,
            "flex": null,
            "_model_name": "LayoutModel",
            "justify_items": null,
            "grid_row": null,
            "max_height": null,
            "align_content": null,
            "visibility": null,
            "align_self": null,
            "height": null,
            "min_height": null,
            "padding": null,
            "grid_auto_rows": null,
            "grid_gap": null,
            "max_width": null,
            "order": null,
            "_view_module_version": "1.2.0",
            "grid_template_areas": null,
            "object_position": null,
            "object_fit": null,
            "grid_auto_columns": null,
            "margin": null,
            "display": null,
            "left": null
          }
        },
        "d9df02f269014b14b3cf6275af069d53": {
          "model_module": "@jupyter-widgets/controls",
          "model_name": "DescriptionStyleModel",
          "state": {
            "_view_name": "StyleView",
            "_model_name": "DescriptionStyleModel",
            "description_width": "",
            "_view_module": "@jupyter-widgets/base",
            "_model_module_version": "1.5.0",
            "_view_count": null,
            "_view_module_version": "1.2.0",
            "_model_module": "@jupyter-widgets/controls"
          }
        },
        "ed269eae578042d1a0522a264767da3f": {
          "model_module": "@jupyter-widgets/base",
          "model_name": "LayoutModel",
          "state": {
            "_view_name": "LayoutView",
            "grid_template_rows": null,
            "right": null,
            "justify_content": null,
            "_view_module": "@jupyter-widgets/base",
            "overflow": null,
            "_model_module_version": "1.2.0",
            "_view_count": null,
            "flex_flow": null,
            "width": null,
            "min_width": null,
            "border": null,
            "align_items": null,
            "bottom": null,
            "_model_module": "@jupyter-widgets/base",
            "top": null,
            "grid_column": null,
            "overflow_y": null,
            "overflow_x": null,
            "grid_auto_flow": null,
            "grid_area": null,
            "grid_template_columns": null,
            "flex": null,
            "_model_name": "LayoutModel",
            "justify_items": null,
            "grid_row": null,
            "max_height": null,
            "align_content": null,
            "visibility": null,
            "align_self": null,
            "height": null,
            "min_height": null,
            "padding": null,
            "grid_auto_rows": null,
            "grid_gap": null,
            "max_width": null,
            "order": null,
            "_view_module_version": "1.2.0",
            "grid_template_areas": null,
            "object_position": null,
            "object_fit": null,
            "grid_auto_columns": null,
            "margin": null,
            "display": null,
            "left": null
          }
        }
      }
    }
  },
  "cells": [
    {
      "cell_type": "code",
      "metadata": {
        "id": "IjfZBbyLzX3j",
        "colab_type": "code",
        "colab": {}
      },
      "source": [
        "# importing necessary libraries\n",
        "import numpy as np\n",
        "import torch.nn as nn\n",
        "import torch\n",
        "import torch.nn.functional as F\n",
        "import torchvision\n",
        "import matplotlib.pyplot as plt\n",
        "import seaborn as sns"
      ],
      "execution_count": 0,
      "outputs": []
    },
    {
      "cell_type": "markdown",
      "metadata": {
        "id": "Vgp1_OQj-fcO",
        "colab_type": "text"
      },
      "source": [
        "This is a rough implementation of Faster RCNN paper.It will helps you to undertstand concepts better.We will divide the section to 3 parts:\n",
        "\n",
        "\n",
        "\n",
        "1.   Region Proposal Network\n",
        "2.   Preprocessing of ROI by RPN\n",
        "3.   Fast RCNN\n",
        "\n"
      ]
    },
    {
      "cell_type": "markdown",
      "metadata": {
        "id": "KKJ8_xpI9Rg0",
        "colab_type": "text"
      },
      "source": [
        "The data flow will be as follows:\n",
        "\n",
        "1. Feature extraction of image\n",
        "2. creating anchor targets(used while calculating loss)\n",
        "3. Location of object score predictions of RPN network\n",
        "4. Taking top N locations by some preprocessing and NMS\n",
        "5. generating proposal targets for each location suggested in 4.(used while calculating loss.ie after prediction)\n",
        "6. Passing these top N locations through Fast R-CNN network and generating locations and cls predictions for each locations.\n",
        "7. Using 2 and 3 to calculate rpn_cls_loss and rpn_reg_loss.\n",
        "8. using 5 and 6 to calculate roi_cls_loss and roi_reg_loss.\n",
        "\n",
        "---\n",
        "\n",
        "\n",
        "\n",
        "---\n",
        "\n"
      ]
    },
    {
      "cell_type": "markdown",
      "metadata": {
        "id": "bhwoKUeKJQAZ",
        "colab_type": "text"
      },
      "source": [
        "Defining the input image and bounding boxes and their labels"
      ]
    },
    {
      "cell_type": "code",
      "metadata": {
        "id": "Hfc0mqufJWgz",
        "colab_type": "code",
        "colab": {}
      },
      "source": [
        "#input image attributes\n",
        "\n",
        "image = torch.zeros((1, 3, 800, 800)).float()\n",
        "bbox = torch.FloatTensor([[20, 30, 400, 500], [300, 400, 500, 600]]) # [y1, x1, y2, x2] format\n",
        "box_classes = torch.LongTensor([6, 8]) # 0 represents background\n",
        "sampling_ratio = 16"
      ],
      "execution_count": 0,
      "outputs": []
    },
    {
      "cell_type": "markdown",
      "metadata": {
        "id": "lQ5MzE6tIpE8",
        "colab_type": "text"
      },
      "source": [
        "We will start by designing Region Proposal network and extend the concept to Fast RCNN"
      ]
    },
    {
      "cell_type": "markdown",
      "metadata": {
        "id": "ZKHsw5x_Ihsv",
        "colab_type": "text"
      },
      "source": [
        "# **1. Region Proposal Network**"
      ]
    },
    {
      "cell_type": "markdown",
      "metadata": {
        "id": "Y_E5mGRhI3rS",
        "colab_type": "text"
      },
      "source": [
        "# **1.1 Feature extraction block**\n",
        "\n",
        "VGG16 act as a feature extraction module.This act as a backbone for RPN as well as Fast RCNN.We have to make few changes to VGG16 to make it work.The input of nwk is 800.So we need to find feature map where the size become 800//16 and trim there."
      ]
    },
    {
      "cell_type": "markdown",
      "metadata": {
        "id": "4b5gYA5wJmya",
        "colab_type": "text"
      },
      "source": [
        "1. create a dummy image of same size that of input"
      ]
    },
    {
      "cell_type": "code",
      "metadata": {
        "id": "brVGHayhXn7L",
        "colab_type": "code",
        "colab": {
          "base_uri": "https://localhost:8080/",
          "height": 34
        },
        "outputId": "39e40940-e73c-4114-9a9e-3d25b7f2f7d7"
      },
      "source": [
        "sample_img = torch.zeros((1,3,800,800)).float()\n",
        "print(sample_img.shape)"
      ],
      "execution_count": 3,
      "outputs": [
        {
          "output_type": "stream",
          "text": [
            "torch.Size([1, 3, 800, 800])\n"
          ],
          "name": "stdout"
        }
      ]
    },
    {
      "cell_type": "markdown",
      "metadata": {
        "id": "N4xDKxXpJ39x",
        "colab_type": "text"
      },
      "source": [
        "2. Pass the image through the VGG layers and subset the list when outputsize of image is below required level (800//16). Also convert this list to Sequential module"
      ]
    },
    {
      "cell_type": "code",
      "metadata": {
        "id": "XuQD6jibXn9Q",
        "colab_type": "code",
        "colab": {
          "base_uri": "https://localhost:8080/",
          "height": 865,
          "referenced_widgets": [
            "7c7aaae84a524ff2ac04d7221c5ffdd4",
            "efad2ea6f0cc4bd78cf3377d7d0024df",
            "d9b2c0753fb24fe0ad267a566383c659",
            "9da5da5f4cc147db8ef355a865e000b4",
            "6ee9c50c406347f68c3f0ca6043112c1",
            "e9ca1caf5cee4ac0ade6dbe2b8951640",
            "d9df02f269014b14b3cf6275af069d53",
            "ed269eae578042d1a0522a264767da3f"
          ]
        },
        "outputId": "39ab35d7-6b78-45cb-995c-fca10044ce94"
      },
      "source": [
        "model = torchvision.models.vgg16(pretrained=True)\n",
        "model"
      ],
      "execution_count": 4,
      "outputs": [
        {
          "output_type": "stream",
          "text": [
            "Downloading: \"https://download.pytorch.org/models/vgg16-397923af.pth\" to /root/.cache/torch/checkpoints/vgg16-397923af.pth\n"
          ],
          "name": "stderr"
        },
        {
          "output_type": "display_data",
          "data": {
            "application/vnd.jupyter.widget-view+json": {
              "model_id": "7c7aaae84a524ff2ac04d7221c5ffdd4",
              "version_minor": 0,
              "version_major": 2
            },
            "text/plain": [
              "HBox(children=(FloatProgress(value=0.0, max=553433881.0), HTML(value='')))"
            ]
          },
          "metadata": {
            "tags": []
          }
        },
        {
          "output_type": "stream",
          "text": [
            "\n"
          ],
          "name": "stdout"
        },
        {
          "output_type": "execute_result",
          "data": {
            "text/plain": [
              "VGG(\n",
              "  (features): Sequential(\n",
              "    (0): Conv2d(3, 64, kernel_size=(3, 3), stride=(1, 1), padding=(1, 1))\n",
              "    (1): ReLU(inplace=True)\n",
              "    (2): Conv2d(64, 64, kernel_size=(3, 3), stride=(1, 1), padding=(1, 1))\n",
              "    (3): ReLU(inplace=True)\n",
              "    (4): MaxPool2d(kernel_size=2, stride=2, padding=0, dilation=1, ceil_mode=False)\n",
              "    (5): Conv2d(64, 128, kernel_size=(3, 3), stride=(1, 1), padding=(1, 1))\n",
              "    (6): ReLU(inplace=True)\n",
              "    (7): Conv2d(128, 128, kernel_size=(3, 3), stride=(1, 1), padding=(1, 1))\n",
              "    (8): ReLU(inplace=True)\n",
              "    (9): MaxPool2d(kernel_size=2, stride=2, padding=0, dilation=1, ceil_mode=False)\n",
              "    (10): Conv2d(128, 256, kernel_size=(3, 3), stride=(1, 1), padding=(1, 1))\n",
              "    (11): ReLU(inplace=True)\n",
              "    (12): Conv2d(256, 256, kernel_size=(3, 3), stride=(1, 1), padding=(1, 1))\n",
              "    (13): ReLU(inplace=True)\n",
              "    (14): Conv2d(256, 256, kernel_size=(3, 3), stride=(1, 1), padding=(1, 1))\n",
              "    (15): ReLU(inplace=True)\n",
              "    (16): MaxPool2d(kernel_size=2, stride=2, padding=0, dilation=1, ceil_mode=False)\n",
              "    (17): Conv2d(256, 512, kernel_size=(3, 3), stride=(1, 1), padding=(1, 1))\n",
              "    (18): ReLU(inplace=True)\n",
              "    (19): Conv2d(512, 512, kernel_size=(3, 3), stride=(1, 1), padding=(1, 1))\n",
              "    (20): ReLU(inplace=True)\n",
              "    (21): Conv2d(512, 512, kernel_size=(3, 3), stride=(1, 1), padding=(1, 1))\n",
              "    (22): ReLU(inplace=True)\n",
              "    (23): MaxPool2d(kernel_size=2, stride=2, padding=0, dilation=1, ceil_mode=False)\n",
              "    (24): Conv2d(512, 512, kernel_size=(3, 3), stride=(1, 1), padding=(1, 1))\n",
              "    (25): ReLU(inplace=True)\n",
              "    (26): Conv2d(512, 512, kernel_size=(3, 3), stride=(1, 1), padding=(1, 1))\n",
              "    (27): ReLU(inplace=True)\n",
              "    (28): Conv2d(512, 512, kernel_size=(3, 3), stride=(1, 1), padding=(1, 1))\n",
              "    (29): ReLU(inplace=True)\n",
              "    (30): MaxPool2d(kernel_size=2, stride=2, padding=0, dilation=1, ceil_mode=False)\n",
              "  )\n",
              "  (avgpool): AdaptiveAvgPool2d(output_size=(7, 7))\n",
              "  (classifier): Sequential(\n",
              "    (0): Linear(in_features=25088, out_features=4096, bias=True)\n",
              "    (1): ReLU(inplace=True)\n",
              "    (2): Dropout(p=0.5, inplace=False)\n",
              "    (3): Linear(in_features=4096, out_features=4096, bias=True)\n",
              "    (4): ReLU(inplace=True)\n",
              "    (5): Dropout(p=0.5, inplace=False)\n",
              "    (6): Linear(in_features=4096, out_features=1000, bias=True)\n",
              "  )\n",
              ")"
            ]
          },
          "metadata": {
            "tags": []
          },
          "execution_count": 4
        }
      ]
    },
    {
      "cell_type": "code",
      "metadata": {
        "id": "IAb6YAr5KHzh",
        "colab_type": "code",
        "colab": {
          "base_uri": "https://localhost:8080/",
          "height": 573
        },
        "outputId": "0f50a112-c039-4c9d-c6f4-194023404c21"
      },
      "source": [
        "# our feature map size is 800//16 = 50 so we need to append features till the image size becomes so for feature extraction block\n",
        "img  = sample_img.clone()\n",
        "features = []\n",
        "for f in model.features:\n",
        "    img = f(img)\n",
        "    if img.shape[2] < 800//16:\n",
        "        break\n",
        "    features.append(f)\n",
        "\n",
        "feature_extractor = nn.Sequential(*features)\n",
        "feature_extractor"
      ],
      "execution_count": 5,
      "outputs": [
        {
          "output_type": "execute_result",
          "data": {
            "text/plain": [
              "Sequential(\n",
              "  (0): Conv2d(3, 64, kernel_size=(3, 3), stride=(1, 1), padding=(1, 1))\n",
              "  (1): ReLU(inplace=True)\n",
              "  (2): Conv2d(64, 64, kernel_size=(3, 3), stride=(1, 1), padding=(1, 1))\n",
              "  (3): ReLU(inplace=True)\n",
              "  (4): MaxPool2d(kernel_size=2, stride=2, padding=0, dilation=1, ceil_mode=False)\n",
              "  (5): Conv2d(64, 128, kernel_size=(3, 3), stride=(1, 1), padding=(1, 1))\n",
              "  (6): ReLU(inplace=True)\n",
              "  (7): Conv2d(128, 128, kernel_size=(3, 3), stride=(1, 1), padding=(1, 1))\n",
              "  (8): ReLU(inplace=True)\n",
              "  (9): MaxPool2d(kernel_size=2, stride=2, padding=0, dilation=1, ceil_mode=False)\n",
              "  (10): Conv2d(128, 256, kernel_size=(3, 3), stride=(1, 1), padding=(1, 1))\n",
              "  (11): ReLU(inplace=True)\n",
              "  (12): Conv2d(256, 256, kernel_size=(3, 3), stride=(1, 1), padding=(1, 1))\n",
              "  (13): ReLU(inplace=True)\n",
              "  (14): Conv2d(256, 256, kernel_size=(3, 3), stride=(1, 1), padding=(1, 1))\n",
              "  (15): ReLU(inplace=True)\n",
              "  (16): MaxPool2d(kernel_size=2, stride=2, padding=0, dilation=1, ceil_mode=False)\n",
              "  (17): Conv2d(256, 512, kernel_size=(3, 3), stride=(1, 1), padding=(1, 1))\n",
              "  (18): ReLU(inplace=True)\n",
              "  (19): Conv2d(512, 512, kernel_size=(3, 3), stride=(1, 1), padding=(1, 1))\n",
              "  (20): ReLU(inplace=True)\n",
              "  (21): Conv2d(512, 512, kernel_size=(3, 3), stride=(1, 1), padding=(1, 1))\n",
              "  (22): ReLU(inplace=True)\n",
              "  (23): MaxPool2d(kernel_size=2, stride=2, padding=0, dilation=1, ceil_mode=False)\n",
              "  (24): Conv2d(512, 512, kernel_size=(3, 3), stride=(1, 1), padding=(1, 1))\n",
              "  (25): ReLU(inplace=True)\n",
              "  (26): Conv2d(512, 512, kernel_size=(3, 3), stride=(1, 1), padding=(1, 1))\n",
              "  (27): ReLU(inplace=True)\n",
              "  (28): Conv2d(512, 512, kernel_size=(3, 3), stride=(1, 1), padding=(1, 1))\n",
              "  (29): ReLU(inplace=True)\n",
              ")"
            ]
          },
          "metadata": {
            "tags": []
          },
          "execution_count": 5
        }
      ]
    },
    {
      "cell_type": "markdown",
      "metadata": {
        "id": "Aw9Vxn3SJvu6",
        "colab_type": "text"
      },
      "source": [
        "3. Now get the feature map when the image is passed through the features we selected"
      ]
    },
    {
      "cell_type": "code",
      "metadata": {
        "id": "8ZF4jlNpXoA5",
        "colab_type": "code",
        "colab": {
          "base_uri": "https://localhost:8080/",
          "height": 34
        },
        "outputId": "420c4fee-b085-4660-eedf-eb5c31b82f2a"
      },
      "source": [
        "out_map = feature_extractor(image)\n",
        "print(out_map.shape)"
      ],
      "execution_count": 6,
      "outputs": [
        {
          "output_type": "stream",
          "text": [
            "torch.Size([1, 512, 50, 50])\n"
          ],
          "name": "stdout"
        }
      ]
    },
    {
      "cell_type": "markdown",
      "metadata": {
        "id": "WxdxXqdsKzcn",
        "colab_type": "text"
      },
      "source": [
        "# **1.2 Designing Anchor boxes**\n",
        "\n",
        "We will divide this into three steps:\n",
        "* First we  will generate Anchor boxes at all the feature map location.\n",
        "* Then we will assign the labels \n",
        "\n",
        "* Then we will assign location of objects (with respect to the anchor) to each and every anchor.\n",
        "\n",
        "Note: We will use anchor_scales of 8, 16, 32, ratio of 0.5, 1, 2 and sub sampling of 16 (Since we have pooled our image from 800 px to 50px). Now every pixel in the output feature map maps to corresponding 16 * 16 pixels in the image"
      ]
    },
    {
      "cell_type": "markdown",
      "metadata": {
        "id": "0G98Ko-ML-gE",
        "colab_type": "text"
      },
      "source": [
        "## Anchor box creation\n",
        "\n",
        "At each pixel location on the feature map, We need to generate 9 anchor boxes (number of anchor_scales and number of ratios) and each anchor box will have ‘y1’, ‘x1’, ‘y2’, ‘x2’. So at each location anchor will have a shape of (9, 4)"
      ]
    },
    {
      "cell_type": "code",
      "metadata": {
        "id": "h86JBX1WWkDT",
        "colab_type": "code",
        "colab": {}
      },
      "source": [
        "ratios = [0.5, 1, 2]\n",
        "anchor_scales = [8, 16, 32]\n",
        "feat_size = (800//16)  #50"
      ],
      "execution_count": 0,
      "outputs": []
    },
    {
      "cell_type": "markdown",
      "metadata": {
        "id": "P-SxE1OxMy3S",
        "colab_type": "text"
      },
      "source": [
        "First we will design centres for the anchor boxes"
      ]
    },
    {
      "cell_type": "code",
      "metadata": {
        "id": "QopTwc4FMcJy",
        "colab_type": "code",
        "colab": {
          "base_uri": "https://localhost:8080/",
          "height": 156
        },
        "outputId": "d956e0a8-7cfe-4daa-b130-0c74208cb5e9"
      },
      "source": [
        "center_x = np.arange(16, (feat_size+1) * 16, 16)  # 50 values\n",
        "center_y = np.arange(16, (feat_size+1) * 16, 16)\n",
        "\n",
        "centers = np.zeros((len(center_x) * len(center_x), 2))   #2500 x 2\n",
        "\n",
        "\n",
        "\n",
        "index = 0\n",
        "for x in range(len(center_x)):\n",
        "    for y in range(len(center_y)):\n",
        "        centers[index, 0] = center_y[y] - 8\n",
        "        centers[index, 1] = center_x[x] - 8\n",
        "        index += 1\n",
        "\n",
        "print(centers.shape)\n",
        "centers\n",
        "\n",
        "\n",
        "### More optimal way of doing the code ### \n",
        "# center_y = np.tile(center_y,50)\n",
        "# center_x = np.repeat(center_x,50)\n",
        "# centers[0:,0] = center_y - 8\n",
        "# centers[0:,1] = center_x - 8\n"
      ],
      "execution_count": 8,
      "outputs": [
        {
          "output_type": "stream",
          "text": [
            "(2500, 2)\n"
          ],
          "name": "stdout"
        },
        {
          "output_type": "execute_result",
          "data": {
            "text/plain": [
              "array([[  8.,   8.],\n",
              "       [ 24.,   8.],\n",
              "       [ 40.,   8.],\n",
              "       ...,\n",
              "       [760., 792.],\n",
              "       [776., 792.],\n",
              "       [792., 792.]])"
            ]
          },
          "metadata": {
            "tags": []
          },
          "execution_count": 8
        }
      ]
    },
    {
      "cell_type": "markdown",
      "metadata": {
        "id": "hN9LkqfUNYCs",
        "colab_type": "text"
      },
      "source": [
        "Now for each of these centre points we will find coordinates(y1,x1,y2,x2) of 9 anchor boxes"
      ]
    },
    {
      "cell_type": "code",
      "metadata": {
        "id": "Q-3YOLNQNSrK",
        "colab_type": "code",
        "colab": {
          "base_uri": "https://localhost:8080/",
          "height": 156
        },
        "outputId": "83de9066-92e5-4dab-8a1d-037b1bf72025"
      },
      "source": [
        "# designing anchor boxes with different scales and ratios\n",
        "anchors = np.zeros((len(centers) * 9, 4), dtype=np.float32)\n",
        "\n",
        "index = 0\n",
        "for c in centers:\n",
        "    ctr_y, ctr_x = c\n",
        "    for i in range(len(ratios)):\n",
        "        for j in range(len(anchor_scales)):\n",
        "            h = sampling_ratio * anchor_scales[j] * np.sqrt(ratios[i])\n",
        "            w = sampling_ratio * anchor_scales[j] * np.sqrt(1. / ratios[i])\n",
        "\n",
        "            # getting coordinates\n",
        "            anchors[index, 0] = ctr_y - h / 2.\n",
        "            anchors[index, 1] = ctr_x - w / 2.\n",
        "            anchors[index, 2] = ctr_y + h / 2.\n",
        "            anchors[index, 3] = ctr_x + w / 2.\n",
        "            index += 1\n",
        "\n",
        "print(anchors.shape)\n",
        "print(anchors)\n",
        "\n",
        "\n",
        "### More optimal way of doing the code ### \n",
        "# anchors = np.zeros((len(centers) * 9, 4), dtype=np.float32)\n",
        "# centers_  = np.repeat(centers,9,axis=0)\n",
        "# mesh = np.array(np.meshgrid(np.array(anchor_scales),np.array(ratios)))\n",
        "# combinations = mesh.T.reshape(-1, 2)\n",
        "# combinations = np.tile(combinations,(centers.shape[0],1))\n",
        "# h = sampling_ratio * combinations[:,0] * np.sqrt(combinations[:,1])\n",
        "# w = sampling_ratio * combinations[:,0] * np.sqrt(1. / combinations[:,1])\n",
        "# # getting coordinates\n",
        "# anchors[:, 0] = centers_[:,0] - h / 2.\n",
        "# anchors[:, 1] = centers_[:,1] - w / 2.\n",
        "# anchors[:, 2] = centers_[:,0] + h / 2.\n",
        "# anchors[:, 3] = centers_[:,1] + w / 2.\n",
        "\n",
        "# print(anchors.shape)\n",
        "# anchors"
      ],
      "execution_count": 9,
      "outputs": [
        {
          "output_type": "stream",
          "text": [
            "(22500, 4)\n",
            "[[ -37.254833  -82.50967    53.254833   98.50967 ]\n",
            " [ -82.50967  -173.01933    98.50967   189.01933 ]\n",
            " [-173.01933  -354.03867   189.01933   370.03867 ]\n",
            " ...\n",
            " [ 701.49036   746.7452    882.50964   837.2548  ]\n",
            " [ 610.98065   701.49036   973.01935   882.50964 ]\n",
            " [ 429.96133   610.98065  1154.0387    973.01935 ]]\n"
          ],
          "name": "stdout"
        }
      ]
    },
    {
      "cell_type": "markdown",
      "metadata": {
        "id": "HKfTOd6_Phb7",
        "colab_type": "text"
      },
      "source": [
        "## Assigning labels to these anchor boxes\n",
        "\n",
        "We assign labels in such a way that:<br>\n",
        "<p>\n",
        "\n",
        "<br>\n",
        "\n",
        "* positive label(1) for all anchor boxes which has maximum iou with ground truth box. Also we will assign positive label for those anchor boxes whose iou >= 0.7 with ground truth box.It indicates region containing object<br>\n",
        "\n",
        "* zero label(0) for all those anchor boxes with iou < 0.3 with ground truth box.It indicates region that doesnot contain object<br>\n",
        "\n",
        "* negative (-1) label for others which we will ignore later at the time of training\n",
        "\n",
        "\n",
        "<br>\n",
        "\n",
        "We will also do a positive as well as negative sampling as mentioned in paper\n",
        "<p>\n",
        "The Faster_R-CNN paper phrases as follows Each mini-batch arises from a single image that contains many positive and negitive example anchors, but this will bias towards negitive samples as they are dominate. Instead, we randomly sample 256 anchors in an image to compute the loss function of a mini-batch, where the sampled positive and negative anchors have a ratio of up to 1:1. If there are fewer than 128 positive samples in an image, we pad the mini-batch with negitive ones.. From this we can derive two variable as follows"
      ]
    },
    {
      "cell_type": "markdown",
      "metadata": {
        "id": "6djdV51-QUmo",
        "colab_type": "text"
      },
      "source": [
        "1. Initially we assign -1 label for all anchor boxes"
      ]
    },
    {
      "cell_type": "code",
      "metadata": {
        "id": "xfQ-63hePQ5N",
        "colab_type": "code",
        "colab": {
          "base_uri": "https://localhost:8080/",
          "height": 34
        },
        "outputId": "276d0b72-caa6-4b29-cb72-51a98ca058f7"
      },
      "source": [
        "labels = np.empty(len(anchors))\n",
        "labels.fill(-1)\n",
        "labels\n"
      ],
      "execution_count": 10,
      "outputs": [
        {
          "output_type": "execute_result",
          "data": {
            "text/plain": [
              "array([-1., -1., -1., ..., -1., -1., -1.])"
            ]
          },
          "metadata": {
            "tags": []
          },
          "execution_count": 10
        }
      ]
    },
    {
      "cell_type": "markdown",
      "metadata": {
        "id": "-gh8WsGkQf2M",
        "colab_type": "text"
      },
      "source": [
        "2. Filter anchor boxes with y1,x1,y2 and x2 coords between 0 and 800.We neglet all other anchor boxes"
      ]
    },
    {
      "cell_type": "code",
      "metadata": {
        "id": "8olI1AJLQeeb",
        "colab_type": "code",
        "colab": {
          "base_uri": "https://localhost:8080/",
          "height": 34
        },
        "outputId": "0d8cd4ff-8b7d-4c32-cace-e34823dd0902"
      },
      "source": [
        "inside_indexes = np.where(\n",
        "    (anchors[:, 0] >= 0) &\n",
        "    (anchors[:, 1] >= 0) &\n",
        "    (anchors[:, 2] <= 800) &\n",
        "    (anchors[:, 3] <= 800)\n",
        ")[0]\n",
        "\n",
        "\n",
        "valid_labels = labels[inside_indexes]\n",
        "\n",
        "# only get the valid anchor boxes\n",
        "valid_anchor_boxes = anchors[inside_indexes]\n",
        "print(valid_anchor_boxes.shape)"
      ],
      "execution_count": 11,
      "outputs": [
        {
          "output_type": "stream",
          "text": [
            "(8940, 4)\n"
          ],
          "name": "stdout"
        }
      ]
    },
    {
      "cell_type": "markdown",
      "metadata": {
        "id": "iAAIbRKRRP3s",
        "colab_type": "text"
      },
      "source": [
        "3. calculate iou of anchor boxes with ground truth boxes"
      ]
    },
    {
      "cell_type": "code",
      "metadata": {
        "id": "McvZfvtZROQS",
        "colab_type": "code",
        "colab": {
          "base_uri": "https://localhost:8080/",
          "height": 156
        },
        "outputId": "e6455af2-0ec1-476e-aed3-c3d04ce4b933"
      },
      "source": [
        "def get_ious(anchors,bbox):\n",
        "    bboxes = bbox.clone().numpy()\n",
        "    ious = np.zeros((len(anchors),len(bboxes)))\n",
        "    for num1,i in enumerate(anchors):\n",
        "        ya1,xa1,ya2,xa2 = i  \n",
        "        anchor_area = (ya2-ya1) * (xa2-xa1)\n",
        "        for num2,j in enumerate(bboxes):\n",
        "            yb1,xb1,yb2,xb2 = j\n",
        "            bbox_area = (yb2-yb1) * (xb2-xb1)\n",
        "            top_y = max(ya1,yb1)\n",
        "            top_x = max(xa1,xb1)\n",
        "            bottom_y = min(ya2,yb2)\n",
        "            bottom_x = min(xa2,xb2)\n",
        "\n",
        "            if (top_x < bottom_x) and (top_y < bottom_y):\n",
        "                intersection_area = (bottom_x - top_x) * (bottom_y - top_y)\n",
        "                iou =  intersection_area/(anchor_area + bbox_area - intersection_area)\n",
        "            else:\n",
        "                iou = 0\n",
        "            ious[num1,num2] = iou\n",
        "    return ious\n",
        "\n",
        "\n",
        "ious = get_ious(valid_anchor_boxes,bbox)\n",
        "print(ious.shape)\n",
        "ious"
      ],
      "execution_count": 12,
      "outputs": [
        {
          "output_type": "stream",
          "text": [
            "(8940, 2)\n"
          ],
          "name": "stdout"
        },
        {
          "output_type": "execute_result",
          "data": {
            "text/plain": [
              "array([[0.06811669, 0.        ],\n",
              "       [0.07083762, 0.        ],\n",
              "       [0.07083762, 0.        ],\n",
              "       ...,\n",
              "       [0.        , 0.        ],\n",
              "       [0.        , 0.        ],\n",
              "       [0.        , 0.        ]])"
            ]
          },
          "metadata": {
            "tags": []
          },
          "execution_count": 12
        }
      ]
    },
    {
      "cell_type": "markdown",
      "metadata": {
        "id": "HRWIcFR1R4yk",
        "colab_type": "text"
      },
      "source": [
        "4. Now we will do labeling based on iou.For that we need to find the following: <br>\n",
        "case1: the anchor boxes that share maximum iou with ground truth box<br>\n",
        "case2: ground truth boxes that share maximum iou with each anchor box"
      ]
    },
    {
      "cell_type": "markdown",
      "metadata": {
        "id": "POyQnrLXS4aj",
        "colab_type": "text"
      },
      "source": [
        "case 1:"
      ]
    },
    {
      "cell_type": "code",
      "metadata": {
        "id": "TUZXb5VFRanI",
        "colab_type": "code",
        "colab": {
          "base_uri": "https://localhost:8080/",
          "height": 86
        },
        "outputId": "ac6df320-9fad-436c-cf87-a934ba51fa3e"
      },
      "source": [
        "# first find the anchor boxes which has max iou with ground truth boxes\n",
        "case1_idx = np.argmax(ious,axis=0)\n",
        "print(case1_idx)\n",
        "\n",
        "#listing all anchor boxes with those iou\n",
        "case1_iou = ious[case1_idx,np.arange(ious.shape[1])]\n",
        "print(case1_iou)\n",
        "case1_indexes = np.where(ious == case1_iou)[0]\n",
        "print(case1_indexes) "
      ],
      "execution_count": 13,
      "outputs": [
        {
          "output_type": "stream",
          "text": [
            "[2262 5620]\n",
            "[0.68130493 0.61035156]\n",
            "[2262 2508 5620 5628 5636 5644 5866 5874 5882 5890 6112 6120 6128 6136\n",
            " 6358 6366 6374 6382]\n"
          ],
          "name": "stdout"
        }
      ]
    },
    {
      "cell_type": "markdown",
      "metadata": {
        "id": "JeeX77ZzS6IY",
        "colab_type": "text"
      },
      "source": [
        "case 2:"
      ]
    },
    {
      "cell_type": "code",
      "metadata": {
        "id": "OfQorUr1SRaz",
        "colab_type": "code",
        "colab": {
          "base_uri": "https://localhost:8080/",
          "height": 52
        },
        "outputId": "681e1660-ea9f-49d8-d492-e3b33684ba94"
      },
      "source": [
        "# find the bbox that share maxium iou with anchor box\n",
        "case2_idx = np.argmax(ious,axis=1)\n",
        "print(case2_idx)\n",
        "# Now find their ious\n",
        "case2_iou = ious[np.arange(ious.shape[0]),case2_idx]\n",
        "print(case2_iou)"
      ],
      "execution_count": 14,
      "outputs": [
        {
          "output_type": "stream",
          "text": [
            "[0 0 0 ... 0 0 0]\n",
            "[0.06811669 0.07083762 0.07083762 ... 0.         0.         0.        ]\n"
          ],
          "name": "stdout"
        }
      ]
    },
    {
      "cell_type": "code",
      "metadata": {
        "id": "lgSTC3OvSY_J",
        "colab_type": "code",
        "colab": {}
      },
      "source": [
        "# labeling\n",
        "positive_threshold = 0.7\n",
        "negative_threshold = 0.3\n",
        "\n",
        "valid_labels[case2_iou >= positive_threshold] = 1\n",
        "valid_labels[case2_iou < negative_threshold] = 0\n",
        "valid_labels[case1_indexes] = 1"
      ],
      "execution_count": 0,
      "outputs": []
    },
    {
      "cell_type": "code",
      "metadata": {
        "id": "EJPnQq72TE5y",
        "colab_type": "code",
        "colab": {
          "base_uri": "https://localhost:8080/",
          "height": 52
        },
        "outputId": "a186f196-31f4-417e-d75d-615ee5bbeefa"
      },
      "source": [
        "print(valid_labels.shape)\n",
        "valid_labels"
      ],
      "execution_count": 16,
      "outputs": [
        {
          "output_type": "stream",
          "text": [
            "(8940,)\n"
          ],
          "name": "stdout"
        },
        {
          "output_type": "execute_result",
          "data": {
            "text/plain": [
              "array([0., 0., 0., ..., 0., 0., 0.])"
            ]
          },
          "metadata": {
            "tags": []
          },
          "execution_count": 16
        }
      ]
    },
    {
      "cell_type": "code",
      "metadata": {
        "id": "64FuUS91XQuM",
        "colab_type": "code",
        "colab": {}
      },
      "source": [
        "# helper function for plotting\n",
        "def label_plot(valid_labels):\n",
        "  pos = np.sum(valid_labels == 1) + np.sum(valid_labels == 8) + np.sum(valid_labels == 6)\n",
        "  neg = np.sum(valid_labels == 0)\n",
        "  ignore = np.sum(valid_labels == -1)\n",
        "  total = len(valid_labels)\n",
        "  \n",
        "  print(f'Out of total  {len(valid_labels)} labels, there are {pos} positive label , {neg} negative labels and {ignore} ignore labels')\n",
        "  sns.countplot(valid_labels)\n",
        "  plt.show"
      ],
      "execution_count": 0,
      "outputs": []
    },
    {
      "cell_type": "code",
      "metadata": {
        "id": "0wecgkEoXMZ0",
        "colab_type": "code",
        "colab": {
          "base_uri": "https://localhost:8080/",
          "height": 284
        },
        "outputId": "b2840b67-0bae-4c98-9d08-1af8e6f9cab1"
      },
      "source": [
        "label_plot(valid_labels)"
      ],
      "execution_count": 18,
      "outputs": [
        {
          "output_type": "stream",
          "text": [
            "Out of total  8940 labels, there are 18 positive label , 7690 negative labels and 1232 ignore labels\n"
          ],
          "name": "stdout"
        },
        {
          "output_type": "display_data",
          "data": {
            "image/png": "[encoded data removed]",
            "text/plain": [
              "<Figure size 432x288 with 1 Axes>"
            ]
          },
          "metadata": {
            "tags": [],
            "needs_background": "light"
          }
        }
      ]
    },
    {
      "cell_type": "markdown",
      "metadata": {
        "id": "r-_6a2ciT2z9",
        "colab_type": "text"
      },
      "source": [
        "Now we will do the minibatch sampling that we described earlier.ie,Normally in an image negative class dominates the positive class.We have to make them in ratio 1:1.\n",
        "* Normally we need 128 positive samples and 128 negative samples.<br>\n",
        "* If there are fewer than 128 positive samples in an image, we pad that mini-batch with negitive ones<br>\n",
        "* If there are more positive samples we will disble(-1) those extra samples.similarly for negative samples"
      ]
    },
    {
      "cell_type": "code",
      "metadata": {
        "id": "gcqSsuJaTNM4",
        "colab_type": "code",
        "colab": {}
      },
      "source": [
        "pos_ratio = 0.5\n",
        "n_sample = 256\n",
        "# total positive samples\n",
        "n_pos = pos_ratio * n_sample\n",
        "\n",
        "\n",
        "#labeling positive samples\n",
        "pos_idxes = np.where(valid_labels == 1)[0]\n",
        "pos_labels_in_image = len(pos_idxes)\n",
        "\n",
        "# uf positive samples > 128\n",
        "if pos_labels_in_image > n_pos:\n",
        "  # disable the later samples\n",
        "  disable_index = np.random.choice(pos_idxes, size = (n_pos - pos_labels_in_image), replace = False)\n",
        "  valid_labels[disable_index] = -1 \n",
        "\n",
        "\n",
        "#labeling negative samples\n",
        "neg_idxes = np.where(valid_labels == 0)[0]\n",
        "neg_labels_in_image = len(neg_idxes)\n",
        "req_neg_labels = n_sample - pos_labels_in_image\n",
        "\n",
        "if neg_labels_in_image > req_neg_labels:\n",
        "  # sample a small array\n",
        "  disable_index = np.random.choice(neg_idxes, size = (neg_labels_in_image - req_neg_labels), replace = False)\n",
        "  valid_labels[disable_index] = -1 "
      ],
      "execution_count": 0,
      "outputs": []
    },
    {
      "cell_type": "code",
      "metadata": {
        "id": "T_6lCNAqWITq",
        "colab_type": "code",
        "colab": {
          "base_uri": "https://localhost:8080/",
          "height": 282
        },
        "outputId": "14f78c10-f411-4dd0-b169-3ae13a8ad76b"
      },
      "source": [
        "label_plot(valid_labels)"
      ],
      "execution_count": 20,
      "outputs": [
        {
          "output_type": "stream",
          "text": [
            "Out of total  8940 labels, there are 18 positive label , 238 negative labels and 8684 ignore labels\n"
          ],
          "name": "stdout"
        },
        {
          "output_type": "display_data",
          "data": {
            "image/png": "[encoded data removed]",
            "text/plain": [
              "<Figure size 432x288 with 1 Axes>"
            ]
          },
          "metadata": {
            "tags": [],
            "needs_background": "light"
          }
        }
      ]
    },
    {
      "cell_type": "markdown",
      "metadata": {
        "id": "z7GJIck5jiXX",
        "colab_type": "text"
      },
      "source": [
        "Now we will assign these labels to all anchor boxes we have"
      ]
    },
    {
      "cell_type": "code",
      "metadata": {
        "id": "hg-1TUkCjn02",
        "colab_type": "code",
        "colab": {
          "base_uri": "https://localhost:8080/",
          "height": 282
        },
        "outputId": "8d2a6b97-bf81-46b5-b5e2-5c709d192214"
      },
      "source": [
        "#matching labels\n",
        "labels[inside_indexes] = valid_labels\n",
        "\n",
        "label_plot(labels)"
      ],
      "execution_count": 21,
      "outputs": [
        {
          "output_type": "stream",
          "text": [
            "Out of total  22500 labels, there are 18 positive label , 238 negative labels and 22244 ignore labels\n"
          ],
          "name": "stdout"
        },
        {
          "output_type": "display_data",
          "data": {
            "image/png": "[encoded data removed]",
            "text/plain": [
              "<Figure size 432x288 with 1 Axes>"
            ]
          },
          "metadata": {
            "tags": [],
            "needs_background": "light"
          }
        }
      ]
    },
    {
      "cell_type": "markdown",
      "metadata": {
        "id": "lX2KsiKkitIS",
        "colab_type": "text"
      },
      "source": [
        "## Assigning bbox coordinates for anchor boxes\n",
        "\n",
        "Now lets assign the locations to each anchor box with the ground truth object which has maximum iou. Note, we will assign anchor locs to all the valid anchor boxes irrespective of its label, later when we are calculating the losses, we can remove them with simple filters.\n",
        "\n",
        "We already know which ground truth object has high iou with each anchor box, Now we need to find the locations of ground truth with respect to the anchor box location. Faster_R-CNN uses the following parametrizion for this\n",
        "\n",
        "**t_{x} = (x - x_{a})/w_{a}<br>**\n",
        "**t_{y} = (y - y_{a})/h_{a}<br>**\n",
        "**t_{w} = log(w/ w_a)<br>**\n",
        "**t_{h} = log(h/ h_a)<br>**\n",
        "\n",
        "x, y , w, h are the groud truth box center co-ordinates, width and height. x_a, y_a, h_a and w_a and anchor boxes center cooridinates, width and height.\n",
        "\n"
      ]
    },
    {
      "cell_type": "code",
      "metadata": {
        "id": "lzf6GqzeWlY0",
        "colab_type": "code",
        "colab": {
          "base_uri": "https://localhost:8080/",
          "height": 139
        },
        "outputId": "d93f29ec-049c-437d-a54b-562b4a286379"
      },
      "source": [
        "# For each anchor box find the groundtruth which share maximum iou\n",
        "max_iou_bbox = bbox[case2_idx]\n",
        "max_iou_bbox"
      ],
      "execution_count": 22,
      "outputs": [
        {
          "output_type": "execute_result",
          "data": {
            "text/plain": [
              "tensor([[ 20.,  30., 400., 500.],\n",
              "        [ 20.,  30., 400., 500.],\n",
              "        [ 20.,  30., 400., 500.],\n",
              "        ...,\n",
              "        [ 20.,  30., 400., 500.],\n",
              "        [ 20.,  30., 400., 500.],\n",
              "        [ 20.,  30., 400., 500.]])"
            ]
          },
          "metadata": {
            "tags": []
          },
          "execution_count": 22
        }
      ]
    },
    {
      "cell_type": "code",
      "metadata": {
        "id": "ouLY55LZi34-",
        "colab_type": "code",
        "colab": {
          "base_uri": "https://localhost:8080/",
          "height": 173
        },
        "outputId": "8d08869a-cdb5-41f7-8107-00c48c04d5f5"
      },
      "source": [
        "#do a tranfromation to these boxes\n",
        "height = valid_anchor_boxes[:, 2] - valid_anchor_boxes[:, 0]\n",
        "width = valid_anchor_boxes[:, 3] - valid_anchor_boxes[:, 1]\n",
        "ctr_y = valid_anchor_boxes[:, 0] + 0.5 * height\n",
        "ctr_x = valid_anchor_boxes[:, 1] + 0.5 * width\n",
        "\n",
        "base_height = (max_iou_bbox[:, 2] - max_iou_bbox[:, 0]).cpu().numpy()\n",
        "base_width = (max_iou_bbox[:, 3] - max_iou_bbox[:, 1]).cpu().numpy()\n",
        "base_ctr_y = max_iou_bbox[:, 0].cpu().numpy() + 0.5 * base_height\n",
        "base_ctr_x = max_iou_bbox[:, 1].cpu().numpy() + 0.5 * base_width\n",
        "\n",
        "\n",
        "\n",
        "# we will set a minimum eps value for height and width as we divide wih them\n",
        "eps = np.finfo(height.dtype).eps\n",
        "height = np.maximum(height, eps)\n",
        "width = np.maximum(width, eps)\n",
        "\n",
        "dy = (base_ctr_y - ctr_y) / height\n",
        "dx = (base_ctr_x - ctr_x) / width\n",
        "dh = np.log(base_height / height)\n",
        "dw = np.log(base_width / width)\n",
        "\n",
        "anchor_locs = np.vstack((dy, dx, dh, dw)).transpose()\n",
        "print(anchor_locs.shape)\n",
        "anchor_locs"
      ],
      "execution_count": 23,
      "outputs": [
        {
          "output_type": "stream",
          "text": [
            "(8940, 4)\n"
          ],
          "name": "stdout"
        },
        {
          "output_type": "execute_result",
          "data": {
            "text/plain": [
              "array([[ 0.5855727 ,  2.3091455 ,  0.7415673 ,  1.647276  ],\n",
              "       [ 0.49718437,  2.3091455 ,  0.7415673 ,  1.647276  ],\n",
              "       [ 0.40879607,  2.3091455 ,  0.7415673 ,  1.647276  ],\n",
              "       ...,\n",
              "       [-2.50802   , -5.292254  ,  0.7415677 ,  1.6472763 ],\n",
              "       [-2.5964084 , -5.292254  ,  0.7415677 ,  1.6472763 ],\n",
              "       [-2.6847968 , -5.292254  ,  0.7415677 ,  1.6472763 ]],\n",
              "      dtype=float32)"
            ]
          },
          "metadata": {
            "tags": []
          },
          "execution_count": 23
        }
      ]
    },
    {
      "cell_type": "code",
      "metadata": {
        "id": "j6xkPcLwi8-a",
        "colab_type": "code",
        "colab": {
          "base_uri": "https://localhost:8080/",
          "height": 156
        },
        "outputId": "37dbd5b3-76e2-466a-ef6f-823039a4bd85"
      },
      "source": [
        "anchor_locations = np.zeros((len(anchors),4),dtype=anchor_locs.dtype)\n",
        "anchor_locations[inside_indexes] = anchor_locs\n",
        "print(anchor_locations.shape)\n",
        "anchor_locations"
      ],
      "execution_count": 24,
      "outputs": [
        {
          "output_type": "stream",
          "text": [
            "(22500, 4)\n"
          ],
          "name": "stdout"
        },
        {
          "output_type": "execute_result",
          "data": {
            "text/plain": [
              "array([[0., 0., 0., 0.],\n",
              "       [0., 0., 0., 0.],\n",
              "       [0., 0., 0., 0.],\n",
              "       ...,\n",
              "       [0., 0., 0., 0.],\n",
              "       [0., 0., 0., 0.],\n",
              "       [0., 0., 0., 0.]], dtype=float32)"
            ]
          },
          "metadata": {
            "tags": []
          },
          "execution_count": 24
        }
      ]
    },
    {
      "cell_type": "markdown",
      "metadata": {
        "id": "FN1DpDKitCcP",
        "colab_type": "text"
      },
      "source": [
        "## **1.3 Designing remaining layers (ROI prediction)**\n",
        "\n",
        "\n",
        "To generate region proposals we slides a nxn sliding window over the feature map we generated earlier.Now we take the output of this sliding window and convert to 512 dimensional vector. This feature is fed into two sibling fully connected layers\n",
        "\n",
        "* A box regrression layer\n",
        "* A box classification layer\n",
        "\n",
        "we use n=3, as noted in Faster_R-CNN paper. We can implement this Architecture using n x n convolutional layer followed by two sibiling 1 x 1 convolutional layers\n"
      ]
    },
    {
      "cell_type": "code",
      "metadata": {
        "id": "4Nn6ESr_kS7Q",
        "colab_type": "code",
        "colab": {
          "base_uri": "https://localhost:8080/",
          "height": 34
        },
        "outputId": "e14ceb17-81d1-4c1d-ebdf-1327f04d53f9"
      },
      "source": [
        "input_channels = 512 #512 in case of VGG16  \n",
        "mid_channels = 512\n",
        "n_anchor = 9\n",
        "\n",
        "conv1 = nn.Conv2d(input_channels,mid_channels,3 , 1, 1)\n",
        "reg_layer = nn.Conv2d(mid_channels, n_anchor *4, 1, 1, 0)\n",
        "cls_layer = nn.Conv2d(mid_channels, n_anchor *2, 1, 1, 0)\n",
        "\n",
        "\n",
        "# conv sliding layer\n",
        "conv1.weight.data.normal_(0, 0.01)\n",
        "conv1.bias.data.zero_()# Regression layer\n",
        "reg_layer.weight.data.normal_(0, 0.01)\n",
        "reg_layer.bias.data.zero_()# classification layer\n",
        "cls_layer.weight.data.normal_(0, 0.01)\n",
        "cls_layer.bias.data.zero_()"
      ],
      "execution_count": 25,
      "outputs": [
        {
          "output_type": "execute_result",
          "data": {
            "text/plain": [
              "tensor([0., 0., 0., 0., 0., 0., 0., 0., 0., 0., 0., 0., 0., 0., 0., 0., 0., 0.])"
            ]
          },
          "metadata": {
            "tags": []
          },
          "execution_count": 25
        }
      ]
    },
    {
      "cell_type": "code",
      "metadata": {
        "id": "rpKOmL6Ruth1",
        "colab_type": "code",
        "colab": {
          "base_uri": "https://localhost:8080/",
          "height": 34
        },
        "outputId": "ca9fc4df-656b-4597-aec7-7550149fa52c"
      },
      "source": [
        "# Now we will pass the output that we got from feature extractor\n",
        "x = conv1(out_map)  # out_map is obtained in section 1\n",
        "pred_anchor_locs = reg_layer(x)\n",
        "pred_cls_scores = cls_layer(x)\n",
        "print(pred_cls_scores.shape, pred_anchor_locs.shape)"
      ],
      "execution_count": 26,
      "outputs": [
        {
          "output_type": "stream",
          "text": [
            "torch.Size([1, 18, 50, 50]) torch.Size([1, 36, 50, 50])\n"
          ],
          "name": "stdout"
        }
      ]
    },
    {
      "cell_type": "code",
      "metadata": {
        "id": "6q3hHhJHutkk",
        "colab_type": "code",
        "colab": {
          "base_uri": "https://localhost:8080/",
          "height": 86
        },
        "outputId": "6265d33b-784d-4e56-9fc6-6f6430597162"
      },
      "source": [
        "# Now we will reassign this to get required shape\n",
        "\n",
        "pred_anchor_locs = pred_anchor_locs.permute(0, 2, 3, 1).contiguous().view(1, -1, 4)\n",
        "print(pred_anchor_locs.shape)\n",
        "\n",
        "pred_cls_scores_ = pred_cls_scores.permute(0, 2, 3, 1).contiguous()\n",
        "print(pred_cls_scores_.shape)\n",
        "\n",
        "# probaility of anchorboxes containing object\n",
        "objectness_score = pred_cls_scores_.view(1, 50, 50, 9, 2)[:, :, :, :, 1].contiguous().view(1, -1)\n",
        "print(objectness_score.shape)\n",
        "\n",
        "\n",
        "# probaility of anchorboxes containing object and probaility of anchorboxes does not containing object\n",
        "pred_cls_scores = pred_cls_scores_.view(1, -1, 2)\n",
        "print(pred_cls_scores.shape)\n"
      ],
      "execution_count": 27,
      "outputs": [
        {
          "output_type": "stream",
          "text": [
            "torch.Size([1, 22500, 4])\n",
            "torch.Size([1, 50, 50, 18])\n",
            "torch.Size([1, 22500])\n",
            "torch.Size([1, 22500, 2])\n"
          ],
          "name": "stdout"
        }
      ]
    },
    {
      "cell_type": "markdown",
      "metadata": {
        "id": "g1KyQvX5ssEJ",
        "colab_type": "text"
      },
      "source": [
        "pred_cls_scores and pred_anchor_locs are the output the RPN network and the losses to updates the weights\n",
        "pred_cls_scores and objectness_scores are used as inputs to the proposal layer, which generate a set of proposal which are further used by RoI network. We will see this in the next section"
      ]
    },
    {
      "cell_type": "markdown",
      "metadata": {
        "id": "G8IFUVckvMAK",
        "colab_type": "text"
      },
      "source": [
        "<br>"
      ]
    },
    {
      "cell_type": "markdown",
      "metadata": {
        "id": "C_NS6LiJvGcA",
        "colab_type": "text"
      },
      "source": [
        "\n",
        "\n",
        "---\n",
        "\n",
        "\n",
        "\n",
        "---\n",
        "\n",
        "\n",
        "\n",
        "\n",
        "\n"
      ]
    },
    {
      "cell_type": "markdown",
      "metadata": {
        "id": "j7E6t8hRvODM",
        "colab_type": "text"
      },
      "source": [
        "<br>"
      ]
    },
    {
      "cell_type": "markdown",
      "metadata": {
        "id": "4ezbYAEcvUUz",
        "colab_type": "text"
      },
      "source": [
        "# **2. Preprocessing ROI proposals to select top N proposals**"
      ]
    },
    {
      "cell_type": "markdown",
      "metadata": {
        "id": "FRI3mmpLsRP7",
        "colab_type": "text"
      },
      "source": [
        "## **2.1 Reduce ROI proposals by Non Max Suppression**\n",
        "\n",
        "\n",
        "\n"
      ]
    },
    {
      "cell_type": "markdown",
      "metadata": {
        "id": "BOqTDyTRtDqP",
        "colab_type": "text"
      },
      "source": [
        "\n",
        "The Faster R_CNN says, RPN proposals highly overlap with each other. To reduced redundancy, we adopt non-maximum supression (NMS) on the proposal regions based on their cls scores. We fix the IoU threshold for NMS at 0.7, which leaves us about 2000 proposal regions per image. After an ablation study, the authors show that NMS does not harm the ultimate detection accuracy, but substantially reduces the number of proposals. After NMS, we use the top-N ranked proposal regions for detection. In the following we training Fast R-CNN using 2000 RPN proposals. During testing they evaluate only 300 proposals, they have tested this with various numbers and obtained this.\n",
        "\n",
        "Parameters:\n",
        "\n",
        "* nms_thresh - threshold of suppression\n",
        "* n_train_pre_nms — number of bboxes before nms during training\n",
        "* n_train_post_nms — number of bboxes after nms during training\n",
        "* n_test_pre_nms — number of bboxes before nms during testing\n",
        "* n_test_post_nms — number of bboxes after nms during testing\n",
        "* min_size — minimum height of the object required to create a proposal."
      ]
    },
    {
      "cell_type": "code",
      "metadata": {
        "id": "OmaYvfuiutm5",
        "colab_type": "code",
        "colab": {}
      },
      "source": [
        "nms_thresh = 0.7\n",
        "n_train_pre_nms = 12000\n",
        "n_train_post_nms = 2000\n",
        "n_test_pre_nms = 6000\n",
        "n_test_post_nms = 300\n",
        "min_size = 16"
      ],
      "execution_count": 0,
      "outputs": []
    },
    {
      "cell_type": "markdown",
      "metadata": {
        "id": "PdgbT4PDth25",
        "colab_type": "text"
      },
      "source": [
        "We need to do the following to generate ROI proposals to the nwk.\n",
        "\n",
        "1. convert the loc predictions from the rpn network to bbox [y1, x1, y2, x2] format.<br>\n",
        "2. clip the predicted boxes to the image<br>\n",
        "3. Remove predicted boxes with either height or width < threshold (min_size).<br>\n",
        "4. Sort all (proposal, score) pairs by score from highest to lowest.<br>\n",
        "5. Take top pre_nms_topN (e.g. 12000 while training and 300 while testing).<br>\n",
        "6. Apply nms threshold > 0.7<br>\n",
        "7. Take top pos_nms_topN (e.g. 2000 while training and 300 while testing)<br>"
      ]
    },
    {
      "cell_type": "markdown",
      "metadata": {
        "id": "XmYEwT1KtjAZ",
        "colab_type": "text"
      },
      "source": [
        "1. convert the loc predictions from the rpn network to bbox [y1, x1, y2, x2] format.<br>\n",
        "\n",
        "Reverse of what we done earlier:\n",
        "\n",
        "\n",
        "* x = (w_{a} * ctr_x_{p}) + ctr_x_{a}\n",
        "* y = (h_{a} * ctr_x_{p}) + ctr_x_{a}\n",
        "* h = np.exp(h_{p}) * h_{a}\n",
        "* w = np.exp(w_{p}) * w_{a}\n",
        "\n",
        "and later convert to y1, x1, y2, x2 format"
      ]
    },
    {
      "cell_type": "code",
      "metadata": {
        "id": "IJqvR-y3vPsU",
        "colab_type": "code",
        "colab": {
          "base_uri": "https://localhost:8080/",
          "height": 156
        },
        "outputId": "52d5515e-a053-4de1-83dd-d5fefdc6d0ce"
      },
      "source": [
        "# Convert anchors format from y1, x1, y2, x2 to ctr_x, ctr_y, h, w\n",
        "\n",
        "anc_height = anchors[:, 2] - anchors[:, 0]  #y2 - y1\n",
        "anc_width = anchors[:, 3] - anchors[:, 1]  # x2 - x1\n",
        "anc_ctr_y = anchors[:, 0] + 0.5 * anc_height\n",
        "anc_ctr_x = anchors[:, 1] + 0.5 * anc_width\n",
        "\n",
        "\n",
        "pred_anchor_locs_numpy = pred_anchor_locs[0].data.numpy()\n",
        "objectness_score_numpy = objectness_score[0].data.numpy()\n",
        "dy = pred_anchor_locs_numpy[:, 0::4]\n",
        "dx = pred_anchor_locs_numpy[:, 1::4]\n",
        "dh = pred_anchor_locs_numpy[:, 2::4]\n",
        "dw = pred_anchor_locs_numpy[:, 3::4]\n",
        "\n",
        "# use the above formulas\n",
        "ctr_y = dy * anc_height[:, np.newaxis] + anc_ctr_y[:, np.newaxis]\n",
        "ctr_x = dx * anc_width[:, np.newaxis] + anc_ctr_x[:, np.newaxis]\n",
        "h = np.exp(dh) * anc_height[:, np.newaxis]\n",
        "w = np.exp(dw) * anc_width[:, np.newaxis]\n",
        "\n",
        "\n",
        "#convert [ctr_x, ctr_y, h, w] to [y1, x1, y2, x2] format\n",
        "roi = np.zeros(pred_anchor_locs_numpy.shape, dtype=anchor_locs.dtype)\n",
        "roi[:, 0::4] = ctr_y - 0.5 * h\n",
        "roi[:, 1::4] = ctr_x - 0.5 * w\n",
        "roi[:, 2::4] = ctr_y + 0.5 * h\n",
        "roi[:, 3::4] = ctr_x + 0.5 * w\n",
        "\n",
        "roi"
      ],
      "execution_count": 29,
      "outputs": [
        {
          "output_type": "execute_result",
          "data": {
            "text/plain": [
              "array([[ -38.5233  ,  -84.514915,   53.80548 ,   94.66781 ],\n",
              "       [ -81.282295, -160.81387 ,   99.76351 ,  199.64944 ],\n",
              "       [-185.6216  , -370.83905 ,  191.54951 ,  355.69855 ],\n",
              "       ...,\n",
              "       [ 699.64355 ,  745.03687 ,  881.33594 ,  836.7079  ],\n",
              "       [ 618.0458  ,  698.9514  ,  976.3085  ,  879.38586 ],\n",
              "       [ 433.74872 ,  616.964   , 1153.2109  ,  971.75    ]],\n",
              "      dtype=float32)"
            ]
          },
          "metadata": {
            "tags": []
          },
          "execution_count": 29
        }
      ]
    },
    {
      "cell_type": "markdown",
      "metadata": {
        "id": "dWNis9tlwoVy",
        "colab_type": "text"
      },
      "source": [
        "2.clipping the boxes"
      ]
    },
    {
      "cell_type": "code",
      "metadata": {
        "id": "n4saBdF4vPuw",
        "colab_type": "code",
        "colab": {
          "base_uri": "https://localhost:8080/",
          "height": 139
        },
        "outputId": "7f2d72c2-f663-42c2-ce08-b1c74067e1ae"
      },
      "source": [
        "# cliping the predicting boxes to image size\n",
        "img_size = (800,800)\n",
        "roi[:, 0:4:2] = np.clip(roi[:, 0:4:2], 0 ,img_size[0])\n",
        "roi[:, 1:4:2] = np.clip(roi[:, 1:4:2], 0 ,img_size[1])\n",
        "roi"
      ],
      "execution_count": 30,
      "outputs": [
        {
          "output_type": "execute_result",
          "data": {
            "text/plain": [
              "array([[  0.     ,   0.     ,  53.80548,  94.66781],\n",
              "       [  0.     ,   0.     ,  99.76351, 199.64944],\n",
              "       [  0.     ,   0.     , 191.54951, 355.69855],\n",
              "       ...,\n",
              "       [699.64355, 745.03687, 800.     , 800.     ],\n",
              "       [618.0458 , 698.9514 , 800.     , 800.     ],\n",
              "       [433.74872, 616.964  , 800.     , 800.     ]], dtype=float32)"
            ]
          },
          "metadata": {
            "tags": []
          },
          "execution_count": 30
        }
      ]
    },
    {
      "cell_type": "markdown",
      "metadata": {
        "id": "GlTp4fSOwvJ4",
        "colab_type": "text"
      },
      "source": [
        "3. Remove predicted boxes with either height or width < threshold (ie.less than 16)"
      ]
    },
    {
      "cell_type": "code",
      "metadata": {
        "id": "eoHoiI7BvPxE",
        "colab_type": "code",
        "colab": {
          "base_uri": "https://localhost:8080/",
          "height": 52
        },
        "outputId": "6845ab42-e0e5-43df-d50c-6b991fe6c59f"
      },
      "source": [
        "# removing boxes with height and width < threshold (16)\n",
        "# %% remove small ones\n",
        "hs = roi[:, 2] - roi[:, 0]\n",
        "ws = roi[:, 3] - roi[:, 1]\n",
        "keep = np.where((hs >= min_size) & (ws >= min_size))[0]\n",
        "roi = roi[keep, :]\n",
        "scores = objectness_score_numpy[keep]\n",
        "print(scores.shape)\n",
        "print(roi.shape)"
      ],
      "execution_count": 31,
      "outputs": [
        {
          "output_type": "stream",
          "text": [
            "(22500,)\n",
            "(22500, 4)\n"
          ],
          "name": "stdout"
        }
      ]
    },
    {
      "cell_type": "markdown",
      "metadata": {
        "id": "YFpRPHirxDgC",
        "colab_type": "text"
      },
      "source": [
        "4. Sort all (proposal, score) pairs by score from highest to lowest."
      ]
    },
    {
      "cell_type": "code",
      "metadata": {
        "id": "AkTz5cktvPzr",
        "colab_type": "code",
        "colab": {
          "base_uri": "https://localhost:8080/",
          "height": 34
        },
        "outputId": "81322435-fe13-41bd-fd34-696517b621e2"
      },
      "source": [
        "ordered_scores = scores.ravel().argsort()[::-1]\n",
        "print(ordered_scores)"
      ],
      "execution_count": 32,
      "outputs": [
        {
          "output_type": "stream",
          "text": [
            "[ 460  883  472 ... 1339  462    6]\n"
          ],
          "name": "stdout"
        }
      ]
    },
    {
      "cell_type": "markdown",
      "metadata": {
        "id": "v-y0uZtqxHFH",
        "colab_type": "text"
      },
      "source": [
        "5. Take top N boxes (pre_nms_top N) (e.g. 12000 while training and 300 while testing)"
      ]
    },
    {
      "cell_type": "code",
      "metadata": {
        "id": "SmHS6AQrvP34",
        "colab_type": "code",
        "colab": {
          "base_uri": "https://localhost:8080/",
          "height": 156
        },
        "outputId": "7fc2ac6c-169f-4575-96a3-292b3fc81e07"
      },
      "source": [
        "#indexes of top training anchorboxes \n",
        "ordered_scores = ordered_scores[:n_train_pre_nms]  #taking only first 12000 proposals\n",
        "roi = roi[ordered_scores, :]\n",
        "print(roi.shape)\n",
        "print(roi)"
      ],
      "execution_count": 33,
      "outputs": [
        {
          "output_type": "stream",
          "text": [
            "(12000, 4)\n",
            "[[  0.        0.      124.7566  214.72182]\n",
            " [689.08014   0.      800.      219.22293]\n",
            " [  0.        0.      166.14523 143.88687]\n",
            " ...\n",
            " [635.19714 201.05414 800.      291.9385 ]\n",
            " [635.19714 409.05417 800.      499.9385 ]\n",
            " [635.19714 281.05417 800.      371.9385 ]]\n"
          ],
          "name": "stdout"
        }
      ]
    },
    {
      "cell_type": "markdown",
      "metadata": {
        "id": "qLWfZbmaxipW",
        "colab_type": "text"
      },
      "source": [
        "6. Apply non-maximum supression threshold > 0.7 . We keep the threshold at 0.7. threshold defines the minimum overlapping area required to merge/remove overlapping bounding boxes"
      ]
    },
    {
      "cell_type": "code",
      "metadata": {
        "id": "CAbSoZimutqw",
        "colab_type": "code",
        "colab": {}
      },
      "source": [
        "y1 = roi[:, 0]\n",
        "x1 = roi[:, 1]\n",
        "y2 = roi[:, 2]\n",
        "x2 = roi[:, 3]\n",
        "\n",
        "areas = (x2 - x1 + 1) * (y2 - y1 + 1)\n",
        "order = ordered_scores.argsort()[::-1]\n",
        "\n",
        "keep = []\n",
        "\n",
        "while len(order) > 1:\n",
        "    i = order[0]\n",
        "    keep.append(i)\n",
        "    # finding coords of intersection rectangle\n",
        "    top_x = np.maximum(x1[i], x1[order[1:]])\n",
        "    top_y = np.maximum(y1[i], y1[order[1:]])\n",
        "    bottom_x = np.minimum(x2[i], x2[order[1:]])\n",
        "    bottom_y = np.minimum(y2[i], y2[order[1:]])\n",
        "\n",
        "    w = np.maximum(0.0, bottom_x - top_x + 1)\n",
        "    h = np.maximum(0.0, bottom_y - top_y + 1)\n",
        "\n",
        "    intersection_area = w * h\n",
        "    iou_ = intersection_area/(areas[i] + areas[order[1:]] - intersection_area)\n",
        "\n",
        "    inds = np.where(iou_ <= nms_thresh)[0]  #all indexes which have iou <= 0.7 #remove all boxes above it\n",
        "    order = order[inds + 1]\n",
        "\n",
        "keep = keep[:n_train_post_nms]  # while training/testing , use accordingly\n",
        "roi = roi[keep] "
      ],
      "execution_count": 0,
      "outputs": []
    },
    {
      "cell_type": "code",
      "metadata": {
        "id": "4y0ltvjVxzJd",
        "colab_type": "code",
        "colab": {
          "base_uri": "https://localhost:8080/",
          "height": 34
        },
        "outputId": "5cfc7642-8b90-46f6-8a1c-5a5bfd6961b9"
      },
      "source": [
        "roi.shape"
      ],
      "execution_count": 35,
      "outputs": [
        {
          "output_type": "execute_result",
          "data": {
            "text/plain": [
              "(1968, 4)"
            ]
          },
          "metadata": {
            "tags": []
          },
          "execution_count": 35
        }
      ]
    },
    {
      "cell_type": "markdown",
      "metadata": {
        "id": "SIseRD1hx6EH",
        "colab_type": "text"
      },
      "source": [
        "The final region proposals were obtained, This is used as the input to ROI pooling"
      ]
    },
    {
      "cell_type": "markdown",
      "metadata": {
        "id": "epLuMUhyyM_P",
        "colab_type": "text"
      },
      "source": [
        "# **2.2 Assigning labels(classes) and bbox coordinates for FastRCNN proposals**"
      ]
    },
    {
      "cell_type": "markdown",
      "metadata": {
        "id": "_OB15focGhdB",
        "colab_type": "text"
      },
      "source": [
        "## Assigning Labels"
      ]
    },
    {
      "cell_type": "markdown",
      "metadata": {
        "id": "J6lnYbTLywfo",
        "colab_type": "text"
      },
      "source": [
        "We will create target from these proposals.\n",
        "\n",
        "Parameters: \n",
        "* n_sample: Number of samples to sample from roi, The default value is 128.\n",
        "* pos_ratio: the number of positive examples out of the n_samples. The default values is 0.25.\n",
        "* pos_iou_thesh: The minimum overlap of region proposal with any groundtruth object to consider it as positive label.\n",
        "* [neg_iou_threshold_lo, neg_iou_threshold_hi] : [0.0, 0.5], The overlap value bounding required to consider a region proposal as negitive [background object]."
      ]
    },
    {
      "cell_type": "code",
      "metadata": {
        "id": "d0sL_lasyBk5",
        "colab_type": "code",
        "colab": {}
      },
      "source": [
        "n_samples = 128\n",
        "pos_ratio = 0.25\n",
        "pos_iou_thresh = 0.5\n",
        "neg_iou_thresh_hi = 0.5\n",
        "neg_iou_thresh_lo = 0.0"
      ],
      "execution_count": 0,
      "outputs": []
    },
    {
      "cell_type": "markdown",
      "metadata": {
        "id": "xPTlrjMwy86f",
        "colab_type": "text"
      },
      "source": [
        "1. find the iou of roi's with all ground truth boxes\n",
        "\n"
      ]
    },
    {
      "cell_type": "code",
      "metadata": {
        "id": "ePZuQQYDx-9O",
        "colab_type": "code",
        "colab": {
          "base_uri": "https://localhost:8080/",
          "height": 156
        },
        "outputId": "9d524a6d-6809-4884-fb05-451997f4fb13"
      },
      "source": [
        "ious_ = get_ious(roi,bbox)\n",
        "print(ious_.shape)\n",
        "ious_"
      ],
      "execution_count": 37,
      "outputs": [
        {
          "output_type": "stream",
          "text": [
            "(1968, 2)\n"
          ],
          "name": "stdout"
        },
        {
          "output_type": "execute_result",
          "data": {
            "text/plain": [
              "array([[0.        , 0.        ],\n",
              "       [0.        , 0.        ],\n",
              "       [0.        , 0.        ],\n",
              "       ...,\n",
              "       [0.47919598, 0.        ],\n",
              "       [0.08289845, 0.        ],\n",
              "       [0.01767218, 0.        ]])"
            ]
          },
          "metadata": {
            "tags": []
          },
          "execution_count": 37
        }
      ]
    },
    {
      "cell_type": "markdown",
      "metadata": {
        "id": "UxggzCKjz3vy",
        "colab_type": "text"
      },
      "source": [
        "2. Assigning labels.\n",
        "\n",
        "a) we assign class labels(6,8) for all anchor boxes having iou > 0.5<br>\n",
        "\n",
        "b) we assign class label 0 (doesnot contain object) for anchor boxes with iou < 0.5 with ground truth box"
      ]
    },
    {
      "cell_type": "markdown",
      "metadata": {
        "id": "unaxEoxWzUHi",
        "colab_type": "text"
      },
      "source": [
        "For that first we will find the ground truth box that sahre mximum iou with anchor boxes"
      ]
    },
    {
      "cell_type": "code",
      "metadata": {
        "id": "PRdmls9ezJ0g",
        "colab_type": "code",
        "colab": {
          "base_uri": "https://localhost:8080/",
          "height": 52
        },
        "outputId": "dc649127-f499-4c71-ae9d-a286787b0520"
      },
      "source": [
        "max_iou_roi_index = np.argmax(ious_,axis=1)\n",
        "print(max_iou_roi_index)\n",
        "\n",
        "max_ious = ious_[np.arange(ious_.shape[0]),max_iou_roi_index]\n",
        "# max_ious_ = ious_.max(axis=1)\n",
        "print(max_ious)"
      ],
      "execution_count": 38,
      "outputs": [
        {
          "output_type": "stream",
          "text": [
            "[0 0 0 ... 0 0 0]\n",
            "[0.         0.         0.         ... 0.47919598 0.08289845 0.01767218]\n"
          ],
          "name": "stdout"
        }
      ]
    },
    {
      "cell_type": "markdown",
      "metadata": {
        "id": "AACVNAhY07fw",
        "colab_type": "text"
      },
      "source": [
        "Initially we assign class labels for all anchor boxes.Later we label negative class."
      ]
    },
    {
      "cell_type": "code",
      "metadata": {
        "id": "KaYdHeWxzx0h",
        "colab_type": "code",
        "colab": {
          "base_uri": "https://localhost:8080/",
          "height": 52
        },
        "outputId": "0fa4ac34-21cb-4094-e1a5-a3269e710480"
      },
      "source": [
        "target_labels = box_classes[max_iou_roi_index].numpy()\n",
        "print(target_labels.shape)\n",
        "target_labels"
      ],
      "execution_count": 39,
      "outputs": [
        {
          "output_type": "stream",
          "text": [
            "(1968,)\n"
          ],
          "name": "stdout"
        },
        {
          "output_type": "execute_result",
          "data": {
            "text/plain": [
              "array([6, 6, 6, ..., 6, 6, 6])"
            ]
          },
          "metadata": {
            "tags": []
          },
          "execution_count": 39
        }
      ]
    },
    {
      "cell_type": "markdown",
      "metadata": {
        "id": "hywnqkJW16Og",
        "colab_type": "text"
      },
      "source": [
        "Now we will filter those anchor boxes with ious > 0.5 as positive class and those between 0 and 0.5 as negative class"
      ]
    },
    {
      "cell_type": "code",
      "metadata": {
        "id": "nqdZKXBbz1x_",
        "colab_type": "code",
        "colab": {
          "base_uri": "https://localhost:8080/",
          "height": 52
        },
        "outputId": "3d949437-a4a1-4204-d9e2-a3e3145d15a0"
      },
      "source": [
        "\n",
        "# take those between 0 and 0.5 as negative\n",
        "neg_index = np.where((max_ious < neg_iou_thresh_hi) &\n",
        "                     (max_ious >= neg_iou_thresh_lo))[0]\n",
        "\n",
        "target_labels[neg_index] = 0\n",
        "\n",
        "\n",
        "# take only those rois with iou > 0.5\n",
        "# actually when we take neg proposals remaining is pos proposals\n",
        "pos_index = np.where(max_ious >= pos_iou_thresh)[0]\n",
        "\n",
        "print(target_labels.shape)\n",
        "target_labels"
      ],
      "execution_count": 40,
      "outputs": [
        {
          "output_type": "stream",
          "text": [
            "(1968,)\n"
          ],
          "name": "stdout"
        },
        {
          "output_type": "execute_result",
          "data": {
            "text/plain": [
              "array([0, 0, 0, ..., 0, 0, 0])"
            ]
          },
          "metadata": {
            "tags": []
          },
          "execution_count": 40
        }
      ]
    },
    {
      "cell_type": "code",
      "metadata": {
        "id": "eok2jFp23DkE",
        "colab_type": "code",
        "colab": {
          "base_uri": "https://localhost:8080/",
          "height": 282
        },
        "outputId": "0f4acdfb-9fb4-4eeb-abfd-1cfc47709bca"
      },
      "source": [
        "label_plot(target_labels)"
      ],
      "execution_count": 41,
      "outputs": [
        {
          "output_type": "stream",
          "text": [
            "Out of total  1968 labels, there are 23 positive label , 1945 negative labels and 0 ignore labels\n"
          ],
          "name": "stdout"
        },
        {
          "output_type": "display_data",
          "data": {
            "image/png": "[encoded data removed]",
            "text/plain": [
              "<Figure size 432x288 with 1 Axes>"
            ]
          },
          "metadata": {
            "tags": [],
            "needs_background": "light"
          }
        }
      ]
    },
    {
      "cell_type": "markdown",
      "metadata": {
        "id": "c-24Wut78EyF",
        "colab_type": "text"
      },
      "source": [
        "Same as in the case of Region peoposal network we have to do a mini batch sampling.our 2000 prposal mostly contains negative class(ie without object).We need to balance positive and ngetive class.\n",
        "\n",
        "Total we need 128 proposals and out of that 0.25*128=32 proposals should be positive. If we get less than 32 positive proposals keep as it is. if we got > 32 proposals.sample 32 from it. same for negative proposals"
      ]
    },
    {
      "cell_type": "code",
      "metadata": {
        "id": "SGtacmAR6unj",
        "colab_type": "code",
        "colab": {
          "base_uri": "https://localhost:8080/",
          "height": 52
        },
        "outputId": "5c8ae567-e87e-4a33-bc40-24a2ff7cc9bd"
      },
      "source": [
        "\n",
        "\n",
        "req_pos_proposals = n_sample*pos_ratio\n",
        "image_pos_proposals = len(pos_index)\n",
        "\n",
        "\n",
        "margin_pos_proposals = int(min(req_pos_proposals,image_pos_proposals)) \n",
        "\n",
        "if image_pos_proposals > req_pos_proposals:\n",
        "    pos_index = np.random.choice(pos_index, size=req_pos_proposals, replace=False)\n",
        "    \n",
        "\n",
        "\n",
        "req_neg_proposals = n_sample - margin_pos_proposals\n",
        "image_neg_proposals = len(neg_index)\n",
        "\n",
        "if image_neg_proposals > req_neg_proposals:\n",
        "    neg_index = np.random.choice(neg_index, size=req_neg_proposals, replace=False)\n",
        "\n",
        "\n",
        "print(len(pos_index))\n",
        "print(len(neg_index))"
      ],
      "execution_count": 42,
      "outputs": [
        {
          "output_type": "stream",
          "text": [
            "23\n",
            "233\n"
          ],
          "name": "stdout"
        }
      ]
    },
    {
      "cell_type": "code",
      "metadata": {
        "id": "exFiNSuw72M2",
        "colab_type": "code",
        "colab": {
          "base_uri": "https://localhost:8080/",
          "height": 34
        },
        "outputId": "8e583ab4-b2d1-4172-b3de-06951610d798"
      },
      "source": [
        "keep_index = np.append(pos_index, neg_index)\n",
        "gt_roi_labels = target_labels[keep_index]\n",
        "\n",
        "# first 13 are positive and rest are negative\n",
        "gt_roi_labels[margin_pos_proposals:] = 0  # negative labels --> 0\n",
        "\n",
        "sample_roi = roi[keep_index]\n",
        "print(sample_roi.shape)"
      ],
      "execution_count": 43,
      "outputs": [
        {
          "output_type": "stream",
          "text": [
            "(256, 4)\n"
          ],
          "name": "stdout"
        }
      ]
    },
    {
      "cell_type": "markdown",
      "metadata": {
        "id": "Dm61z6pDGlIK",
        "colab_type": "text"
      },
      "source": [
        "## Assigning BBOX coords"
      ]
    },
    {
      "cell_type": "code",
      "metadata": {
        "id": "3BTbliRO72QS",
        "colab_type": "code",
        "colab": {
          "base_uri": "https://localhost:8080/",
          "height": 52
        },
        "outputId": "64e1e747-7859-43ed-f2c7-da0558331784"
      },
      "source": [
        "bbox_for_sampled_roi = bbox[max_iou_roi_index[keep_index]] # ground truth boxes\n",
        "print(bbox_for_sampled_roi.shape)\n",
        "\n",
        "height = sample_roi[:, 2] - sample_roi[:, 0]\n",
        "width = sample_roi[:, 3] - sample_roi[:, 1]\n",
        "ctr_y = sample_roi[:, 0] + 0.5 * height\n",
        "ctr_x = sample_roi[:, 1] + 0.5 * width\n",
        "\n",
        "base_height = bbox_for_sampled_roi[:, 2] - bbox_for_sampled_roi[:, 0]\n",
        "base_width = bbox_for_sampled_roi[:, 3] - bbox_for_sampled_roi[:, 1]\n",
        "base_ctr_y = (bbox_for_sampled_roi[:, 0] + 0.5 * base_height).cpu().numpy()\n",
        "base_ctr_x = (bbox_for_sampled_roi[:, 1] + 0.5 * base_width).cpu().numpy()\n",
        "\n",
        "\n",
        "# t_{x} = (x - x_{a})/w_{a}\n",
        "# t_{y} = (y - y_{a})/h_{a}\n",
        "# t_{w} = log(w/ w_a)\n",
        "# t_{h} = log(h/ h_a)\n",
        "\n",
        "eps = np.finfo(height.dtype).eps\n",
        "height = np.maximum(height, eps)\n",
        "width = np.maximum(width, eps)\n",
        "\n",
        "dy = (base_ctr_y - ctr_y) / height\n",
        "dx = (base_ctr_x - ctr_x) / width\n",
        "dh = np.log(base_height.cpu().numpy() / height)\n",
        "dw = np.log(base_width.cpu().numpy() / width)\n",
        "\n",
        "gt_roi_locs = np.vstack((dy, dx, dh, dw)).transpose()\n",
        "print(gt_roi_locs.shape)"
      ],
      "execution_count": 44,
      "outputs": [
        {
          "output_type": "stream",
          "text": [
            "torch.Size([256, 4])\n",
            "(256, 4)\n"
          ],
          "name": "stdout"
        }
      ]
    },
    {
      "cell_type": "markdown",
      "metadata": {
        "id": "H5GEDTOLO8zB",
        "colab_type": "text"
      },
      "source": [
        "<br>\n"
      ]
    },
    {
      "cell_type": "markdown",
      "metadata": {
        "id": "rZk888BMO83o",
        "colab_type": "text"
      },
      "source": [
        "\n",
        "\n",
        "---\n",
        "\n",
        "\n",
        "\n",
        "---\n",
        "\n"
      ]
    },
    {
      "cell_type": "markdown",
      "metadata": {
        "id": "5DQC72sjO87Y",
        "colab_type": "text"
      },
      "source": [
        "# **3. Fast RCNN**"
      ]
    },
    {
      "cell_type": "markdown",
      "metadata": {
        "id": "jTlNDghnO8_P",
        "colab_type": "text"
      },
      "source": [
        "So now we have gt_roi_locs and gt_roi_labels for the sampled rois. We now need design the Fast rcnn network and predict the locs and labels, Which we will do in the next section."
      ]
    },
    {
      "cell_type": "markdown",
      "metadata": {
        "id": "pqkU01Qca-if",
        "colab_type": "text"
      },
      "source": [
        "## **3.1 ROI Pooling**\n",
        "\n",
        "Region of interest pooling (also known as RoI pooling) purpose is to perform max pooling on inputs of non-uniform sizes to obtain fixed-size feature maps (e.g. 7×7). This layer takes two inputs\n",
        "\n",
        "* A fixed-size feature map obtained from a deep convolutional network with several convolutions and max-pooling layers\n",
        "* An Nx5 matrix of representing a list of regions of interest, where N is the number of RoIs. The first column represents the image index and the remaining four are the co-ordinates of the top left and bottom right corners of the region."
      ]
    },
    {
      "cell_type": "code",
      "metadata": {
        "id": "uOCI2zs172S3",
        "colab_type": "code",
        "colab": {
          "base_uri": "https://localhost:8080/",
          "height": 34
        },
        "outputId": "ca5cd12e-6f14-4b99-98ac-1aaa7db26917"
      },
      "source": [
        "# first we will create index for all roi's\n",
        "\n",
        "rois = torch.from_numpy(sample_roi).float()\n",
        "roi_indices = np.zeros((len(rois),1), dtype=np.int32)\n",
        "roi_indices = torch.from_numpy(roi_indices).float()\n",
        "\n",
        "\n",
        "# concat rois and roi_indices, so that we get the tensor with shape [N, 5] (index, x, y, h, w)\n",
        "indices_and_rois = torch.cat([roi_indices, rois], dim=1)\n",
        "print(indices_and_rois.shape)"
      ],
      "execution_count": 45,
      "outputs": [
        {
          "output_type": "stream",
          "text": [
            "torch.Size([256, 5])\n"
          ],
          "name": "stdout"
        }
      ]
    },
    {
      "cell_type": "code",
      "metadata": {
        "id": "BBJQyxn572Wx",
        "colab_type": "code",
        "colab": {
          "base_uri": "https://localhost:8080/",
          "height": 156
        },
        "outputId": "08a875c1-35c8-4391-f77d-ea12dab6179a"
      },
      "source": [
        "# ROI Layer\n",
        "size = (7, 7)\n",
        "adaptive_max_pool = nn.AdaptiveMaxPool2d(size)\n",
        "\n",
        "# adjusting roi coordinates\n",
        "output = []\n",
        "rois = indices_and_rois.data.float()\n",
        "rois[:, 1:].mul_(1/16.0)\n",
        "rois = rois.long()\n",
        "num_rois = rois.size(0)\n",
        "print(num_rois)\n",
        "rois"
      ],
      "execution_count": 46,
      "outputs": [
        {
          "output_type": "stream",
          "text": [
            "256\n"
          ],
          "name": "stdout"
        },
        {
          "output_type": "execute_result",
          "data": {
            "text/plain": [
              "tensor([[ 0, 19, 25, 31, 48],\n",
              "        [ 0, 19, 25, 35, 41],\n",
              "        [ 0, 16, 25, 32, 41],\n",
              "        ...,\n",
              "        [ 0, 22, 43, 30, 50],\n",
              "        [ 0, 28, 20, 36, 28],\n",
              "        [ 0, 25,  8, 41, 24]])"
            ]
          },
          "metadata": {
            "tags": []
          },
          "execution_count": 46
        }
      ]
    },
    {
      "cell_type": "code",
      "metadata": {
        "id": "1jHZC4WXc-xm",
        "colab_type": "code",
        "colab": {}
      },
      "source": [
        "output = []\n",
        "for i in range(num_rois):\n",
        "    roi = rois[i]\n",
        "    im_idx = roi[0]\n",
        "    im = out_map[..., roi[1]:roi[3]+1, roi[2]:roi[4]+1]\n",
        "    output.append(adaptive_max_pool(im))"
      ],
      "execution_count": 0,
      "outputs": []
    },
    {
      "cell_type": "code",
      "metadata": {
        "id": "JMkfNwIodk0N",
        "colab_type": "code",
        "colab": {
          "base_uri": "https://localhost:8080/",
          "height": 52
        },
        "outputId": "ddf09177-d770-4554-cd2b-a4bdda057cb8"
      },
      "source": [
        "output = torch.cat(output, 0)\n",
        "print(output.size())\n",
        "\n",
        "# Reshape the tensor so that we can pass it through the feed forward layer.\n",
        "k = output.view(output.size(0), -1)\n",
        "print(k.shape)"
      ],
      "execution_count": 48,
      "outputs": [
        {
          "output_type": "stream",
          "text": [
            "torch.Size([256, 512, 7, 7])\n",
            "torch.Size([256, 25088])\n"
          ],
          "name": "stdout"
        }
      ]
    },
    {
      "cell_type": "markdown",
      "metadata": {
        "id": "ayjWD_mvgvJV",
        "colab_type": "text"
      },
      "source": [
        "## **3.2 Classification and regression heads**\n",
        "\n",
        "Now this will be the input to a classifier layer, which will further brach out to a classification head and regression head"
      ]
    },
    {
      "cell_type": "code",
      "metadata": {
        "id": "nnU1wKj8duy1",
        "colab_type": "code",
        "colab": {}
      },
      "source": [
        "# defining network\n",
        "roi_head_classifier = nn.Sequential(*[nn.Linear(25088, 4096),\n",
        "                                      nn.Linear(4096, 4096)])\n",
        "cls_loc = nn.Linear(4096, 21 * 4) # (VOC 20 classes + 1 background. Each will have 4 co-ordinates)cls_loc.weight.data.normal_(0, 0.01)\n",
        "cls_loc.bias.data.zero_()\n",
        "score = nn.Linear(4096, 21) # (VOC 20 classes + 1 background)"
      ],
      "execution_count": 0,
      "outputs": []
    },
    {
      "cell_type": "code",
      "metadata": {
        "id": "bcp4VecrfIGV",
        "colab_type": "code",
        "colab": {
          "base_uri": "https://localhost:8080/",
          "height": 34
        },
        "outputId": "99077fac-c98b-450a-e511-a4996d31a1e3"
      },
      "source": [
        "# passing output of roi pooling through the network\n",
        "\n",
        "ot = roi_head_classifier(k)\n",
        "roi_cls_loc = cls_loc(ot)\n",
        "roi_cls_score = score(ot)\n",
        "print(roi_cls_loc.shape, roi_cls_score.shape)"
      ],
      "execution_count": 50,
      "outputs": [
        {
          "output_type": "stream",
          "text": [
            "torch.Size([256, 84]) torch.Size([256, 21])\n"
          ],
          "name": "stdout"
        }
      ]
    },
    {
      "cell_type": "markdown",
      "metadata": {
        "id": "qcfExgWnhpkj",
        "colab_type": "text"
      },
      "source": [
        "<br>"
      ]
    },
    {
      "cell_type": "markdown",
      "metadata": {
        "id": "2s72JnHrhpqO",
        "colab_type": "text"
      },
      "source": [
        "\n",
        "\n",
        "---\n",
        "\n",
        "\n",
        "\n",
        "---\n",
        "\n",
        "\n",
        "\n",
        "\n",
        "\n"
      ]
    },
    {
      "cell_type": "markdown",
      "metadata": {
        "id": "AF0Ad60lhvJW",
        "colab_type": "text"
      },
      "source": [
        "<br>"
      ]
    },
    {
      "cell_type": "markdown",
      "metadata": {
        "id": "zBtGaT23hvaK",
        "colab_type": "text"
      },
      "source": [
        "#**4. Losses**\n",
        "\n",
        "We have 2 types of network which has further classification loss as well as regression loss\n",
        "\n",
        "![image.png](data:image/png;base64,iVBORw0KGgoAAAANSUhEUgAAAX4AAABVCAIAAADBpBjqAAAAA3NCSVQICAjb4U/gAAAS90lEQVR4Xu2cL5zrRBeGe78PURSRdQRXR3FxFFdHcHUUV0dxdRRXx+LqKC6O4OpYXB3FFUVxdQRXd3nSc3dubiZJZ3e7TXdzIva2kzPnz3vOvJkz6e++ev36dUsvRUARUAQui8D/LmtOrSkCioAikCKg1KN1oAgoAjUgoNRTA+hqUhFQBJR6tAYUAUWgBgSUemoAXU0qAoqAUo/WgCKgCNSAgFJPDaCrSUVAEVDq0RpQBBSBGhBQ6qkBdDWpCCgCSj1aA4qAIlADAko9NYCuJhUBRUCpR2tAEVAEakBAqacG0NWkIqAIKPVoDSgCikANCCj11AC6mlQEFIH3zghBkiRo8zzvjDqvTdVzjHG32/m+/6RIXhKWzWbz77//fvDBB71e70mDephy0P7777+Z++mnnz5MwxPNuliOHOvtbLseApvNZi+bd6QmJpOJZPGJSuS8apfLJWv1vDptbeT9YrDc3Nz8+uuvFwjKDtNlhIWHe99++62L8MVkqFgSdBlzjrZeufwvheiignnUiOtffvml/RTt9/txHDeBekBjNBoR7NkTCcjywETzxx9/HIbhI03cHi8eCY/U4zIdWHAYcy7C7jJQzFdffcVKNmgQzmUicnQSrvnuu+9+/PHHrHyZk6QYMeqnTDnakHn16hUC7OyQPMuaAj3UnkVVmefZcafCg3ocL8Hir7/+suXBneKwx1/qCMES8lNEJ7v077///izK4a9//vnnLKpclDwFLF9//fXPP//8+eefGweup9LAFt8+/PBDlkYOH9tJtkLIMC7Jla+FqKIThdmQC8XcB2tZnlRyIVcYt/OQlcUDysDBfqdQAPQvWeKFPuQGTWpxDLelFHJF7KKnUAadhFx465GDkAXPukcqkekUHOv2LKoclTjCgmPVRZk1J5LZwrNXtaN7TySGPyepB2RkC0NZchFORZbhJhRSq+dyuGx5mjUCyBSefKVmzvLkw/8yupC4XM96ZCNNV5XdVslnbnHgd7G9nO2APZLtMsQx8Zw95+O7GMyhk5bz7McN9Cx//PHHWTzESVrCc6myES4cEVhO9lxkgbaiUIM9KK293eDbkvYI3coPP/xwDQdzIIMbrGpi56o+FxMAz5U7qhT07OWJG+bQAAHcO+8akRMYOylmxJV6xMsK6rFtgCA98GeffUad0frygabdsQ7AhbmmpZd22jZhj6AfK9iiW+Y8UgTwBM/JgXywZ+VGUIL1L774wpALnuBSVgy2PftxTwW/n/TZFvjll18K80UsQMRfoiNGsHIMRLLAXEMcYJIjmpMFZ/t5coR0VNAZPnzzzTcmOwRF7kQnq5cd1kcffYSAO9md9OdhAlQjF2XDBfjGSVsbwZ7x7Zhd80Aki5GDRUk94Ai5A6M8P2yvciOCM3rMOGib9cLg6eeQ46aOPRtbskJhYCo7+GAvykT+suH8/fffcch9L5cV5nHh3uBIb5jdTOIhnmPaXQnyCBtv+SBKDAIElRuRW4TJ8iu7qjsgNqhEfZbWlfArtvTc4ihBsoZLVElhZu1BcDBqBedc6m2gbCXgZrJj37VHcDWLm91wAZppTxDOnZJgS1YymyCyY+t3SRwJLZvo0nDR0eAD1oGLiw98LUw03t5rmZR5ZcZBw150cpxkZHCJKHASnKu7pKw55HHVpNIcaxgZYrSTZe46/a4HMoMgK3aAZfthedSwvaS4IXsczfIiX8sumWge2pBxxUuBnJLc3oGvPPfQgAP46d6GIG+8tbcPjBQ+ijEhtVgYmr3vzYqhEH6vlilUWzgogNu3wJaXldwVSDEn2wo7xsK5RqxwI4xaxz2UrbxwhMSRhbJYmJJNN6Gx12OlZVVJprjFXuOTTz7hKwmyg61OXKFv7oMoFz9ldwbyhcWDwkJU3Q3ZkiTXRg/rQsciz1eQAWepPb7a+NiaCYrHM7NEmL85Q9VKnKhHYKqgHtstE5LwjhEoI6mcBizydJVIyBZLpTqM7HSSB9ObEdwGfXGev+5RYN3UBz6Y7q8sWBknee6uZlWd5HfbLlM4G6KGHFEVDRJU7lcejj6DrZlI+0Dl2abt1gaL2Z05buS+8iS0o2OEAOmVeESbRNhi3DJ8LQu7MBb8lAeY9OO2xQcnznapYiS3HGxJwgFVmyxEEmzJeIWArbBwBCvZhQAVopkRUOJDIYCFepBncRnf3PcHTHGlHogg55CYrHhE59aS0LnjygcaMYeV+z4HmJtdV3hovubWWyGaZpCJ8isb4fWKSLN6cJjiKNNs+NQWkNVl40Mp2MtbplOgoGQvdblrfoeVs4UhqNmEk2Nq2zEzgiEAkbywjA2h56bY3jIlu9T5Co/nyqnQLqWcfYoUyphSwT0+lyHMXY5XcBumpr+wVVUnDvnsNsGe7jhig5OdKD5I350bl3wxHUzMIaaj0VyFiBWhadFgckFFlbFeoS38YXVwC2126RZOMYNO1MMm1q4AqsdAYDZdWWPUQfapiDCYOgZm6IOQCE8ea0B2cv1nl0d15Cfv4iraMJrjMpkoiNtKmFLRcKGzrG6gAJvfJfyyesUWt8owKfOQcMwOjs8QZbYK7YjMiFnYolloKJeUXJVXaDt5i+eEsIkJpLAAfvvtN3miSBT2AsBtSIe/lB+HLGUVWJ04vEXDSZ8fKVD4lCXq3ForC6HQOuWRS4pU2r2UFGpmkPIDFhKEFVsh4/bgW1XZc6PCz3IilTsuop02x1HcKjxMgq2MDM+Z7M/bOKCCaAtn4YM5vsKK/OKA0y80yLEcg8wtOy9EjAWMZPXPIuQwuMwBwUEO/MoOhsuiLsTw5KAc2fJczUriANydG2HQhEawWfcY5y6DMoUc2weZctgv6HGXyjDyzCKoCmyxJYejiAk4ZCeHM7fKEDOBoMScTWajy36WqhPlCKOTv+J2NmviBoEwyF9STzjmVJXpBMgg03G1zNYjxzEN1DklWSfd9ct+JwsObhOCAZlbuUN04pW8GytS/Nn1kssIVlACmIJnmXtooBiqM0WYsE9ZsNWJzkOW8wPzhrfwQy55zJqSJYDcmhElpJxxSJFSyDlHPNy1EyYThXqgKoEGJeYzAuDIxFwCjNtyxFiGhRGrdkDEkMnSZQ4ZvKrOXE6+4ivxmmc1aAvIstMx3M10eWjzAehEGyOmKCk4vGXcxA5EOV7gLvgwnb88+mQ9Zx2T0i9DT5CXOpY1b0u6wFJdkfhDLNSYSbHUg4Eia5QUUAzGqJScyQtTiNTm34pc3PcWzshyoA/Kkfh9VQm8spUwa42vJt2SXEOsxCUMwjipF24ldgEKx0SSESkM4w+zeKTZtZFzWJZS4dI2klgxebHjzXpu3z1BPfaEwhEiySVYSrP6UVNGH4UmsoOoNQk4KVwhUO0AEZVVLQ7k9iMVVs5yi7K2c5yDnUwDu/GZKbnHHZ4Qsq0n6yEaskvoXs5j2gUW9FcXhm00mwib72z52keeyMnsM5g8GivATuKI2l6JMnhfwAVAYK+ulgq1hRWbzct5qAczOaz5Wl2FcMfDdg0CRxkpuNfcgx3ABNGdfGi4e+Iiae8UyHruaYZLsE8WGWblgEKgglkeyenAUqHcJUwXmVyluUy5vMxTOJljdtNQkzXZX8A+hZsUCuMB/mCOWQ9eaDzkKoiJjLj+mpk4Ky75nQLnYUaG/XzVCVOrRYtRLVBhjgPFsrPVilm5Ww92gEM7zs/s40x304+RBGQ5NQRhfJDPchbOV9q07Okyx5PmRBmjTOG1V9mhtXh1r5eA2UDEh3u9Xn0MDg2cy9kFjZhknCzzaJdVkD2ENrBky0DqJHfY7ALgyZ8ClCmR5V9daf/PlmaZIpdxwsNRWZAYBpROpyN/C6c/mDva7XahwvsOPswBFth0Ol0sFudyw91tMnU4HHAgCAJmrVYrign6Buf1ek1dQivczXIHud/v9/KigVvkhdplLuOF/j8MEwlhPB7zSChU6x6jiyRWeCsnsbvIX1iGRPz000+8dzs7C5Px7XY7GAxkWWHo/fffJ/XUwHA4JEzGqcw///yTpFMVXCZ28k7d8tc9QUi6C2dBpt6otPl8Xo280//XU63C3JVdz2PK19FQjWLPMUZWafXz5/F4XhIWKhtzlNmDd82Pj7dCA2jL/kJYvkLywrculiPHejsn9VwYSjWnCCgCzxeB85z1PN/41XNFQBGoBQGlnlpgV6OKQNMRUOppegVo/IpALQgo9dQCuxpVBJqOgFJP0ytA41cEakFAqacW2NWoItB0BJR6ml4BGr8iUAsCSj21wK5GFYGmI6DU0/QK0PgVgVoQUOqpBXY1qgg0HQGlnqZXgMavCNSCgFJPLbCrUUWg6Qgo9TS9AjR+RaAWBJR6aoFdjSoCTUdAqafpFaDxKwK1IKDUUwvsalQRaDoCSj1NrwCNXxGoBQGlnlpgV6OKQNMRUOppegVo/IpALQgo9dQCuxpVBJqOgFJP0ytA41cEakFAqacW2NWoItB0BJR6ml4BGr8iUAsCSj21wK5GFYGmI6DU0/QK0PgVgVoQUOqpBXY1qgg0HQGlnqZXgMavCNSCgFJPLbCrUUWg6Qgo9TS9AjR+RaAWBJR6aoFdjSoCTUdAqafpFaDxKwK1IKDUUwvsalQRaDoC7zUdgOuJfx/PbtaHjD/+aDbuti/l4G45XWzfGGt7nW5/OAw6d8aT7Sperbf71L12pxsMwkHXa7WS2/l8lXj9yXRwJ3rYLmaRN54N/VZLIuqE00mA8PFK1jfzW38yDY3q4yh61sF02r8TeyOt/7xgBJR6riq5Xn88Nsu07d2Hd/ar+c12MJv07jMpF3xKdn4rSXbraBkvPV8YJVkvbuK9FwxGoe+1uBnHy0XrLd0kt8tV7y355AHdx9G6+zaq/G393lAEtOG6qsS3vcx1Tw7JbpgeEVT7uOUZwEDbJFV52ETxrt0fT8Kg63c6fjcYjkeB3269sef1ep3kNlolxTa9oOftIJ+S28WTdLQBCOiu58qTnGziZbxOO5221x2MRscm6LBbLaP1Dmpod3qD0bC7vZnHe25Es2nUageTGQ3Nfh1Ft5s9a97zg3AUpr3bsbPpjfpJHG+90bS0n0t2CapT7jvs1rtWJ3zbezHmdcNhN8XtyD5efzjY36yWt8GkoGFqdwZhsFusok1v7LYhI7goWqe8R2vXD4d9aM4Omb1hso2jGBTSHjAYEqC2a2k+nsul1HPdmdqvb3f+cDL228kmWkAYPehiFy/XrXAy73kHPq42SdCfzH2OivbDu9Ohw3a5iJPekV2S9XIRLbt3RHPYrjY+JNY5Lul3rmS7WSeHZLdZbw7dMEwF9kcS6lSt6nanP+xvIJ91bxJYOlttfzAMtot4uemOe3mL1vf96max7oTjac9r7VaL5WLRTo+K7JCDfRRtvOFsToDbaLnZJV2m6PVsEFDquapU7eP5NH7jkRekp7GDyUS+d9KVdcv253jyfNhvtjs/8P1wPH4jn224oJdtqzeWjQAbo85qudm3un4qemgFw7B4lbbb+zVbrE5/PB1wrHN3nW7lOoOUfGDE7rhg+R/JZ7OIo60fGqXFH/brdYL54Mh13cGwt1mwAQqC1O93Qz7sW4fDbrPZ+0GnO5wcd2F6PSMElHquKlm5Y+Zjn/GmqeDzoSXrGr4J42i1mMf0W/0wPLYk7/BDAkUdNovpxkTXNvsRr5thlXejTzlisJuvttsDhz3Hy0uF061P6SSR6wxGKflE60JyQfEIFoniTUoi5dchdVw6vVSIc6d2K+0rWwUhd0fjQRyvbmYxDWU/HATHBlGv54KAUs9VZUqOmd+6RJ9xexhMZ+lbr+M5jdxKzzYmwTDZb26X0WLpzfLHKOmS9frT6aBgD8KCrojZ64/C7ZzzpZ68AG+ztWpFtH3Bsf86XvR+0a7H4co7eiCfgLZrhVSB1bYfDnvz5YoI2n6pfeKHa+62dvDp8cQnVVcUst8fTvoh/SH0vDh0ji/09XouCOgbrmvO1CFdelxsYfbr1d1bIl52z27S1svr+H4HIjlSQpsPyXafHtXsEq8bdBJ6p3THwMB6eRNtT7dNAoVHP+ZzPhTvjjPavXCArsWCo9/dfr/brqNFtEmK3vzTdgUee7Piq83hdK9ddvfNnE6/5yW3NH0Jse9W8Yauiw6zIOSE/c6C83deyPkndmTF/uhovQjorqde/Kuts1rD7nI1n8VsPga9zubYQHm9sM8p8mzFMqbXGA6Ppz+d/qC3jRbzddvrDSfDYDxOomg5jxFKX4OJULW5u7uQz3Bzw097utN0Wqc/mXi0NpwXpcSRahuH/U6BrjeHOm/bvHdlUvLpbpf7gplmiBPmUSuKeWN3tERrmUYH/+VD9vwwWEa0W9z1fPZqfpVavXd1CLx6/fr11TmlDikCisBLR0AbrpeeYY1PEbhKBJR6rjIt6pQi8NIRUOp56RnW+BSBq0RAqecq06JOKQIvHQGlnpeeYY1PEbhKBJR6rjIt6pQi8NIR+A9oM7Lac40tJQAAAABJRU5ErkJggg==)"
      ]
    },
    {
      "cell_type": "markdown",
      "metadata": {
        "id": "Wx0WjAHUiPTh",
        "colab_type": "text"
      },
      "source": [
        "#**4.1 RPN Loss**"
      ]
    },
    {
      "cell_type": "markdown",
      "metadata": {
        "id": "ZYhSJzxDiKM-",
        "colab_type": "text"
      },
      "source": [
        "![image.png](data:image/png;base64,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)"
      ]
    },
    {
      "cell_type": "code",
      "metadata": {
        "id": "9XpCn0zLhNPd",
        "colab_type": "code",
        "colab": {
          "base_uri": "https://localhost:8080/",
          "height": 86
        },
        "outputId": "55409065-2826-4036-a944-3a7d05eed41f"
      },
      "source": [
        "# predicted anchor labels and locations\n",
        "\n",
        "print(pred_anchor_locs.shape)\n",
        "print(pred_cls_scores.shape)\n",
        "\n",
        "rpn_loc = pred_anchor_locs[0]\n",
        "rpn_score = pred_cls_scores[0]\n",
        "\n",
        "\n",
        "# actual achor labels and locations\n",
        "print(anchor_locations.shape)\n",
        "print(labels.shape)\n",
        "\n",
        "gt_rpn_loc = torch.from_numpy(anchor_locations)\n",
        "gt_rpn_score = torch.from_numpy(labels)"
      ],
      "execution_count": 51,
      "outputs": [
        {
          "output_type": "stream",
          "text": [
            "torch.Size([1, 22500, 4])\n",
            "torch.Size([1, 22500, 2])\n",
            "(22500, 4)\n",
            "(22500,)\n"
          ],
          "name": "stdout"
        }
      ]
    },
    {
      "cell_type": "code",
      "metadata": {
        "id": "7g8I0soUiUvZ",
        "colab_type": "code",
        "colab": {
          "base_uri": "https://localhost:8080/",
          "height": 34
        },
        "outputId": "795914ca-e9bc-4c58-d9ca-d9a28c3077fc"
      },
      "source": [
        "# F.cross_entropy already average the loss for each batch\n",
        "rpn_cls_loss = nn.functional.cross_entropy(rpn_score, gt_rpn_score.long(), ignore_index=-1)\n",
        "print(rpn_cls_loss)"
      ],
      "execution_count": 52,
      "outputs": [
        {
          "output_type": "stream",
          "text": [
            "tensor(0.6933, grad_fn=<NllLossBackward>)\n"
          ],
          "name": "stdout"
        }
      ]
    },
    {
      "cell_type": "markdown",
      "metadata": {
        "id": "AEPiyVC-jfxH",
        "colab_type": "text"
      },
      "source": [
        "They used L1 loss instead of L2 loss because the values of predicted regression head of RPN are not bounded. Regression loss is also applied to the bounding boxes which have positive label"
      ]
    },
    {
      "cell_type": "markdown",
      "metadata": {
        "id": "J-4zJuIYjs2x",
        "colab_type": "text"
      },
      "source": [
        "![image.png](data:image/png;base64,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)"
      ]
    },
    {
      "cell_type": "code",
      "metadata": {
        "id": "xXaups6-iUyH",
        "colab_type": "code",
        "colab": {
          "base_uri": "https://localhost:8080/",
          "height": 52
        },
        "outputId": "2d2748b5-4350-46d8-939a-24243c598848"
      },
      "source": [
        "# take only those boxes where objects are present neglet those bg class\n",
        "mask = gt_rpn_score > 0\n",
        "print(mask.shape)\n",
        "\n",
        "\n",
        "# taking only boxes with positive labels\n",
        "mask_loc_preds = rpn_loc[mask]\n",
        "mask_loc_targets = gt_rpn_loc[mask]\n",
        "print(mask_loc_preds.shape, mask_loc_preds.shape)"
      ],
      "execution_count": 53,
      "outputs": [
        {
          "output_type": "stream",
          "text": [
            "torch.Size([22500])\n",
            "torch.Size([18, 4]) torch.Size([18, 4])\n"
          ],
          "name": "stdout"
        }
      ]
    },
    {
      "cell_type": "code",
      "metadata": {
        "id": "AQyJsodViU1R",
        "colab_type": "code",
        "colab": {
          "base_uri": "https://localhost:8080/",
          "height": 34
        },
        "outputId": "cad9cebd-5776-4d6f-9a45-b27cb97ec37a"
      },
      "source": [
        "x = torch.abs(mask_loc_targets-mask_loc_preds)\n",
        "\n",
        "rpn_loc_loss = (x<1).float() * 0.5 * x**2 + (x>1).float()*(x-0.5)\n",
        "print(rpn_loc_loss.sum())"
      ],
      "execution_count": 54,
      "outputs": [
        {
          "output_type": "stream",
          "text": [
            "tensor(1.1874, grad_fn=<SumBackward0>)\n"
          ],
          "name": "stdout"
        }
      ]
    },
    {
      "cell_type": "markdown",
      "metadata": {
        "id": "63MKj-OfkLW8",
        "colab_type": "text"
      },
      "source": [
        "Combining both"
      ]
    },
    {
      "cell_type": "code",
      "metadata": {
        "id": "wF0puj_iiU4o",
        "colab_type": "code",
        "colab": {
          "base_uri": "https://localhost:8080/",
          "height": 34
        },
        "outputId": "b729aec7-bdd5-4831-8e44-64197b723c16"
      },
      "source": [
        "rpn_lambda = 10\n",
        "N_reg = (gt_rpn_score>0).float().sum()\n",
        "rpn_loc_loss = rpn_loc_loss.sum()/N_reg\n",
        "rpn_loss = rpn_cls_loss + rpn_lambda*rpn_loc_loss\n",
        "\n",
        "print(rpn_loss)"
      ],
      "execution_count": 55,
      "outputs": [
        {
          "output_type": "stream",
          "text": [
            "tensor(1.3529, grad_fn=<AddBackward0>)\n"
          ],
          "name": "stdout"
        }
      ]
    },
    {
      "cell_type": "markdown",
      "metadata": {
        "id": "xhTSBH7-kPrP",
        "colab_type": "text"
      },
      "source": [
        "# **4.2 Fast RCNN Loss**"
      ]
    },
    {
      "cell_type": "code",
      "metadata": {
        "id": "ut0kGpgjiKpG",
        "colab_type": "code",
        "colab": {
          "base_uri": "https://localhost:8080/",
          "height": 69
        },
        "outputId": "20e29a99-6c4f-4466-af27-203736da010c"
      },
      "source": [
        "# predicted\n",
        "print(roi_cls_loc.shape)\n",
        "print(roi_cls_score.shape)\n",
        "\n",
        "#actual\n",
        "gt_roi_loc = torch.from_numpy(gt_roi_locs).float()\n",
        "gt_roi_label = torch.from_numpy(gt_roi_labels).long()\n",
        "print(gt_roi_loc.shape, gt_roi_label.shape)"
      ],
      "execution_count": 56,
      "outputs": [
        {
          "output_type": "stream",
          "text": [
            "torch.Size([256, 84])\n",
            "torch.Size([256, 21])\n",
            "torch.Size([256, 4]) torch.Size([256])\n"
          ],
          "name": "stdout"
        }
      ]
    },
    {
      "cell_type": "markdown",
      "metadata": {
        "id": "cdcUFAKh-CMO",
        "colab_type": "text"
      },
      "source": [
        "classification loss"
      ]
    },
    {
      "cell_type": "code",
      "metadata": {
        "id": "Fap2a3fglnJU",
        "colab_type": "code",
        "colab": {
          "base_uri": "https://localhost:8080/",
          "height": 34
        },
        "outputId": "e9925ddd-abfc-4e67-f400-ec0faccd5f19"
      },
      "source": [
        "# classification loss\n",
        "roi_cls_loss = nn.functional.cross_entropy(roi_cls_score, gt_roi_label, ignore_index=-1)\n",
        "print(roi_cls_loss)"
      ],
      "execution_count": 57,
      "outputs": [
        {
          "output_type": "stream",
          "text": [
            "tensor(3.0412, grad_fn=<NllLossBackward>)\n"
          ],
          "name": "stdout"
        }
      ]
    },
    {
      "cell_type": "code",
      "metadata": {
        "id": "UP5aT8Thl1ue",
        "colab_type": "code",
        "colab": {
          "base_uri": "https://localhost:8080/",
          "height": 52
        },
        "outputId": "ac6f6bb7-4011-4af7-d122-bd19ab19a34a"
      },
      "source": [
        "n_sample = roi_cls_loc.shape[0]\n",
        "roi_loc = roi_cls_loc.view(n_sample, -1, 4)\n",
        "print(roi_loc.shape)\n",
        "\n",
        "\n",
        "# we will filter out bounding boxes of the classes we need\n",
        "roi_loc = roi_loc[torch.arange(0, n_sample).long(), gt_roi_label]\n",
        "print(roi_loc.shape)"
      ],
      "execution_count": 58,
      "outputs": [
        {
          "output_type": "stream",
          "text": [
            "torch.Size([256, 21, 4])\n",
            "torch.Size([256, 4])\n"
          ],
          "name": "stdout"
        }
      ]
    },
    {
      "cell_type": "code",
      "metadata": {
        "id": "v2GoH9dcmCql",
        "colab_type": "code",
        "colab": {
          "base_uri": "https://localhost:8080/",
          "height": 34
        },
        "outputId": "7a6b79ff-ccf2-4c18-f518-a9a2cbfe9b1b"
      },
      "source": [
        "# we neglet background class\n",
        "mask = gt_roi_label>0\n",
        "mask_loc_preds = roi_loc[mask].view(-1, 4)\n",
        "mask_loc_targets = gt_roi_loc[mask].view(-1, 4)\n",
        "\n",
        "print(mask_loc_preds.shape, mask_loc_targets.shape)"
      ],
      "execution_count": 59,
      "outputs": [
        {
          "output_type": "stream",
          "text": [
            "torch.Size([23, 4]) torch.Size([23, 4])\n"
          ],
          "name": "stdout"
        }
      ]
    },
    {
      "cell_type": "markdown",
      "metadata": {
        "id": "TOFZoxgE-EhR",
        "colab_type": "text"
      },
      "source": [
        "smooth L1 loss"
      ]
    },
    {
      "cell_type": "code",
      "metadata": {
        "id": "d05JBw3C949r",
        "colab_type": "code",
        "colab": {
          "base_uri": "https://localhost:8080/",
          "height": 34
        },
        "outputId": "c04f91f8-73e2-4145-e6ec-74c762b7198b"
      },
      "source": [
        "x = torch.abs(mask_loc_preds - mask_loc_targets)\n",
        "roi_loc_loss = (x<1).float()*0.5*x**2 + (x>=1).float()*(x-0.5)\n",
        "roi_loc_loss = roi_loc_loss\n",
        "print(roi_loc_loss.sum())"
      ],
      "execution_count": 60,
      "outputs": [
        {
          "output_type": "stream",
          "text": [
            "tensor(2.1135, grad_fn=<SumBackward0>)\n"
          ],
          "name": "stdout"
        }
      ]
    },
    {
      "cell_type": "markdown",
      "metadata": {
        "id": "9JJbuXa5-VOE",
        "colab_type": "text"
      },
      "source": [
        "combining both"
      ]
    },
    {
      "cell_type": "code",
      "metadata": {
        "id": "bL1h1z86-R_o",
        "colab_type": "code",
        "colab": {
          "base_uri": "https://localhost:8080/",
          "height": 34
        },
        "outputId": "3e9906a8-1a7c-4b46-91fd-caa83bd58e0d"
      },
      "source": [
        "roi_lambda = 10.\n",
        "N_reg = (gt_roi_label>0).float().sum()\n",
        "roi_loc_loss = roi_loc_loss.sum() / N_reg\n",
        "roi_loss = roi_cls_loss + roi_lambda * roi_loc_loss\n",
        "print(roi_loss)"
      ],
      "execution_count": 61,
      "outputs": [
        {
          "output_type": "stream",
          "text": [
            "tensor(3.9602, grad_fn=<AddBackward0>)\n"
          ],
          "name": "stdout"
        }
      ]
    },
    {
      "cell_type": "markdown",
      "metadata": {
        "id": "n38DyaJi-XbZ",
        "colab_type": "text"
      },
      "source": [
        "## Total Loss"
      ]
    },
    {
      "cell_type": "code",
      "metadata": {
        "id": "3ZM-ObTn-Wni",
        "colab_type": "code",
        "colab": {
          "base_uri": "https://localhost:8080/",
          "height": 34
        },
        "outputId": "faa48490-2c87-4c7b-da37-ca684eebf198"
      },
      "source": [
        "total_loss = rpn_loss + roi_loss\n",
        "total_loss"
      ],
      "execution_count": 62,
      "outputs": [
        {
          "output_type": "execute_result",
          "data": {
            "text/plain": [
              "tensor(5.3131, grad_fn=<AddBackward0>)"
            ]
          },
          "metadata": {
            "tags": []
          },
          "execution_count": 62
        }
      ]
    }
  ]
}